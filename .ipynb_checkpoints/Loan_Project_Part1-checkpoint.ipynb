{
 "cells": [
  {
   "cell_type": "markdown",
   "id": "3b15e8d7",
   "metadata": {},
   "source": [
    "# Project ( Investigate Prosper Loans Dataset to Predict Loan Status)\n",
    "\n",
    "## Table of Contents\n",
    "<ul>\n",
    "<li><a href=\"#intro\">Introduction</a></li>\n",
    "<li><a href=\"#wrangling\">Data Wrangling</a></li>\n",
    "<li><a href=\"#eda\">Exploratory Data Analysis</a></li>\n",
    "<li><a href=\"#conclusions\">Conclusions</a></li>\n",
    "</ul>"
   ]
  },
  {
   "cell_type": "code",
   "execution_count": 1,
   "id": "4c6faf36",
   "metadata": {},
   "outputs": [],
   "source": [
    "#Import Necessary Libraries\n",
    "import pandas as pd\n",
    "import numpy as np\n",
    "import matplotlib.pyplot as plt\n",
    "import seaborn as sns"
   ]
  },
  {
   "cell_type": "markdown",
   "id": "ab5da8f5",
   "metadata": {},
   "source": [
    "<a id='intro'></a>\n",
    "## Introduction\n",
    "> In this Project, i will be Inspecting the ***Predictors of whether a Borrower will be able to Pay back a loan or Not***\n",
    " I will be asking simple and deatiled questions that will produce necessary answers and recomendations at the end of my analysis.\n",
    "###### The Target variable i will comparing across most of the variables will be ***Loan Status***\n",
    "##### Questions like\n",
    "- Which Borrower has a better occupation\n",
    "- What is the Income of a Borrower\n",
    "- What is a Borrower's Record based on prior Ontime Payments?\n",
    "- etc."
   ]
  },
  {
   "cell_type": "markdown",
   "id": "c052447c",
   "metadata": {},
   "source": [
    "<a id='wrangling'></a>\n",
    "## Wrangling\n",
    "### Gather"
   ]
  },
  {
   "cell_type": "code",
   "execution_count": 2,
   "id": "398fda84",
   "metadata": {},
   "outputs": [],
   "source": [
    "#read the file into a dataframe\n",
    "loans = pd.read_csv('prosperLoanData.csv')"
   ]
  },
  {
   "cell_type": "markdown",
   "id": "b96474e0",
   "metadata": {},
   "source": [
    "### Assess"
   ]
  },
  {
   "cell_type": "code",
   "execution_count": 3,
   "id": "dda77745",
   "metadata": {},
   "outputs": [
    {
     "data": {
      "text/html": [
       "<div>\n",
       "<style scoped>\n",
       "    .dataframe tbody tr th:only-of-type {\n",
       "        vertical-align: middle;\n",
       "    }\n",
       "\n",
       "    .dataframe tbody tr th {\n",
       "        vertical-align: top;\n",
       "    }\n",
       "\n",
       "    .dataframe thead th {\n",
       "        text-align: right;\n",
       "    }\n",
       "</style>\n",
       "<table border=\"1\" class=\"dataframe\">\n",
       "  <thead>\n",
       "    <tr style=\"text-align: right;\">\n",
       "      <th></th>\n",
       "      <th>ListingKey</th>\n",
       "      <th>ListingNumber</th>\n",
       "      <th>ListingCreationDate</th>\n",
       "      <th>CreditGrade</th>\n",
       "      <th>Term</th>\n",
       "      <th>LoanStatus</th>\n",
       "      <th>ClosedDate</th>\n",
       "      <th>BorrowerAPR</th>\n",
       "      <th>BorrowerRate</th>\n",
       "      <th>LenderYield</th>\n",
       "      <th>...</th>\n",
       "      <th>LP_ServiceFees</th>\n",
       "      <th>LP_CollectionFees</th>\n",
       "      <th>LP_GrossPrincipalLoss</th>\n",
       "      <th>LP_NetPrincipalLoss</th>\n",
       "      <th>LP_NonPrincipalRecoverypayments</th>\n",
       "      <th>PercentFunded</th>\n",
       "      <th>Recommendations</th>\n",
       "      <th>InvestmentFromFriendsCount</th>\n",
       "      <th>InvestmentFromFriendsAmount</th>\n",
       "      <th>Investors</th>\n",
       "    </tr>\n",
       "  </thead>\n",
       "  <tbody>\n",
       "    <tr>\n",
       "      <th>0</th>\n",
       "      <td>1021339766868145413AB3B</td>\n",
       "      <td>193129</td>\n",
       "      <td>2007-08-26 19:09:29.263000000</td>\n",
       "      <td>C</td>\n",
       "      <td>36</td>\n",
       "      <td>Completed</td>\n",
       "      <td>2009-08-14 00:00:00</td>\n",
       "      <td>0.16516</td>\n",
       "      <td>0.1580</td>\n",
       "      <td>0.1380</td>\n",
       "      <td>...</td>\n",
       "      <td>-133.18</td>\n",
       "      <td>0.0</td>\n",
       "      <td>0.0</td>\n",
       "      <td>0.0</td>\n",
       "      <td>0.0</td>\n",
       "      <td>1.0</td>\n",
       "      <td>0</td>\n",
       "      <td>0</td>\n",
       "      <td>0.0</td>\n",
       "      <td>258</td>\n",
       "    </tr>\n",
       "    <tr>\n",
       "      <th>1</th>\n",
       "      <td>10273602499503308B223C1</td>\n",
       "      <td>1209647</td>\n",
       "      <td>2014-02-27 08:28:07.900000000</td>\n",
       "      <td>NaN</td>\n",
       "      <td>36</td>\n",
       "      <td>Current</td>\n",
       "      <td>NaN</td>\n",
       "      <td>0.12016</td>\n",
       "      <td>0.0920</td>\n",
       "      <td>0.0820</td>\n",
       "      <td>...</td>\n",
       "      <td>0.00</td>\n",
       "      <td>0.0</td>\n",
       "      <td>0.0</td>\n",
       "      <td>0.0</td>\n",
       "      <td>0.0</td>\n",
       "      <td>1.0</td>\n",
       "      <td>0</td>\n",
       "      <td>0</td>\n",
       "      <td>0.0</td>\n",
       "      <td>1</td>\n",
       "    </tr>\n",
       "    <tr>\n",
       "      <th>2</th>\n",
       "      <td>0EE9337825851032864889A</td>\n",
       "      <td>81716</td>\n",
       "      <td>2007-01-05 15:00:47.090000000</td>\n",
       "      <td>HR</td>\n",
       "      <td>36</td>\n",
       "      <td>Completed</td>\n",
       "      <td>2009-12-17 00:00:00</td>\n",
       "      <td>0.28269</td>\n",
       "      <td>0.2750</td>\n",
       "      <td>0.2400</td>\n",
       "      <td>...</td>\n",
       "      <td>-24.20</td>\n",
       "      <td>0.0</td>\n",
       "      <td>0.0</td>\n",
       "      <td>0.0</td>\n",
       "      <td>0.0</td>\n",
       "      <td>1.0</td>\n",
       "      <td>0</td>\n",
       "      <td>0</td>\n",
       "      <td>0.0</td>\n",
       "      <td>41</td>\n",
       "    </tr>\n",
       "    <tr>\n",
       "      <th>3</th>\n",
       "      <td>0EF5356002482715299901A</td>\n",
       "      <td>658116</td>\n",
       "      <td>2012-10-22 11:02:35.010000000</td>\n",
       "      <td>NaN</td>\n",
       "      <td>36</td>\n",
       "      <td>Current</td>\n",
       "      <td>NaN</td>\n",
       "      <td>0.12528</td>\n",
       "      <td>0.0974</td>\n",
       "      <td>0.0874</td>\n",
       "      <td>...</td>\n",
       "      <td>-108.01</td>\n",
       "      <td>0.0</td>\n",
       "      <td>0.0</td>\n",
       "      <td>0.0</td>\n",
       "      <td>0.0</td>\n",
       "      <td>1.0</td>\n",
       "      <td>0</td>\n",
       "      <td>0</td>\n",
       "      <td>0.0</td>\n",
       "      <td>158</td>\n",
       "    </tr>\n",
       "    <tr>\n",
       "      <th>4</th>\n",
       "      <td>0F023589499656230C5E3E2</td>\n",
       "      <td>909464</td>\n",
       "      <td>2013-09-14 18:38:39.097000000</td>\n",
       "      <td>NaN</td>\n",
       "      <td>36</td>\n",
       "      <td>Current</td>\n",
       "      <td>NaN</td>\n",
       "      <td>0.24614</td>\n",
       "      <td>0.2085</td>\n",
       "      <td>0.1985</td>\n",
       "      <td>...</td>\n",
       "      <td>-60.27</td>\n",
       "      <td>0.0</td>\n",
       "      <td>0.0</td>\n",
       "      <td>0.0</td>\n",
       "      <td>0.0</td>\n",
       "      <td>1.0</td>\n",
       "      <td>0</td>\n",
       "      <td>0</td>\n",
       "      <td>0.0</td>\n",
       "      <td>20</td>\n",
       "    </tr>\n",
       "  </tbody>\n",
       "</table>\n",
       "<p>5 rows × 81 columns</p>\n",
       "</div>"
      ],
      "text/plain": [
       "                ListingKey  ListingNumber            ListingCreationDate  \\\n",
       "0  1021339766868145413AB3B         193129  2007-08-26 19:09:29.263000000   \n",
       "1  10273602499503308B223C1        1209647  2014-02-27 08:28:07.900000000   \n",
       "2  0EE9337825851032864889A          81716  2007-01-05 15:00:47.090000000   \n",
       "3  0EF5356002482715299901A         658116  2012-10-22 11:02:35.010000000   \n",
       "4  0F023589499656230C5E3E2         909464  2013-09-14 18:38:39.097000000   \n",
       "\n",
       "  CreditGrade  Term LoanStatus           ClosedDate  BorrowerAPR  \\\n",
       "0           C    36  Completed  2009-08-14 00:00:00      0.16516   \n",
       "1         NaN    36    Current                  NaN      0.12016   \n",
       "2          HR    36  Completed  2009-12-17 00:00:00      0.28269   \n",
       "3         NaN    36    Current                  NaN      0.12528   \n",
       "4         NaN    36    Current                  NaN      0.24614   \n",
       "\n",
       "   BorrowerRate  LenderYield  ...  LP_ServiceFees  LP_CollectionFees  \\\n",
       "0        0.1580       0.1380  ...         -133.18                0.0   \n",
       "1        0.0920       0.0820  ...            0.00                0.0   \n",
       "2        0.2750       0.2400  ...          -24.20                0.0   \n",
       "3        0.0974       0.0874  ...         -108.01                0.0   \n",
       "4        0.2085       0.1985  ...          -60.27                0.0   \n",
       "\n",
       "   LP_GrossPrincipalLoss  LP_NetPrincipalLoss LP_NonPrincipalRecoverypayments  \\\n",
       "0                    0.0                  0.0                             0.0   \n",
       "1                    0.0                  0.0                             0.0   \n",
       "2                    0.0                  0.0                             0.0   \n",
       "3                    0.0                  0.0                             0.0   \n",
       "4                    0.0                  0.0                             0.0   \n",
       "\n",
       "   PercentFunded  Recommendations InvestmentFromFriendsCount  \\\n",
       "0            1.0                0                          0   \n",
       "1            1.0                0                          0   \n",
       "2            1.0                0                          0   \n",
       "3            1.0                0                          0   \n",
       "4            1.0                0                          0   \n",
       "\n",
       "  InvestmentFromFriendsAmount Investors  \n",
       "0                         0.0       258  \n",
       "1                         0.0         1  \n",
       "2                         0.0        41  \n",
       "3                         0.0       158  \n",
       "4                         0.0        20  \n",
       "\n",
       "[5 rows x 81 columns]"
      ]
     },
     "execution_count": 3,
     "metadata": {},
     "output_type": "execute_result"
    }
   ],
   "source": [
    "#inspect the first 5 rows\n",
    "loans.head()"
   ]
  },
  {
   "cell_type": "code",
   "execution_count": 4,
   "id": "0ff0fcf4",
   "metadata": {},
   "outputs": [
    {
     "data": {
      "text/html": [
       "<div>\n",
       "<style scoped>\n",
       "    .dataframe tbody tr th:only-of-type {\n",
       "        vertical-align: middle;\n",
       "    }\n",
       "\n",
       "    .dataframe tbody tr th {\n",
       "        vertical-align: top;\n",
       "    }\n",
       "\n",
       "    .dataframe thead th {\n",
       "        text-align: right;\n",
       "    }\n",
       "</style>\n",
       "<table border=\"1\" class=\"dataframe\">\n",
       "  <thead>\n",
       "    <tr style=\"text-align: right;\">\n",
       "      <th></th>\n",
       "      <th>ListingKey</th>\n",
       "      <th>ListingNumber</th>\n",
       "      <th>ListingCreationDate</th>\n",
       "      <th>CreditGrade</th>\n",
       "      <th>Term</th>\n",
       "      <th>LoanStatus</th>\n",
       "      <th>ClosedDate</th>\n",
       "      <th>BorrowerAPR</th>\n",
       "      <th>BorrowerRate</th>\n",
       "      <th>LenderYield</th>\n",
       "      <th>...</th>\n",
       "      <th>LP_ServiceFees</th>\n",
       "      <th>LP_CollectionFees</th>\n",
       "      <th>LP_GrossPrincipalLoss</th>\n",
       "      <th>LP_NetPrincipalLoss</th>\n",
       "      <th>LP_NonPrincipalRecoverypayments</th>\n",
       "      <th>PercentFunded</th>\n",
       "      <th>Recommendations</th>\n",
       "      <th>InvestmentFromFriendsCount</th>\n",
       "      <th>InvestmentFromFriendsAmount</th>\n",
       "      <th>Investors</th>\n",
       "    </tr>\n",
       "  </thead>\n",
       "  <tbody>\n",
       "    <tr>\n",
       "      <th>113932</th>\n",
       "      <td>E6D9357655724827169606C</td>\n",
       "      <td>753087</td>\n",
       "      <td>2013-04-14 05:55:02.663000000</td>\n",
       "      <td>NaN</td>\n",
       "      <td>36</td>\n",
       "      <td>Current</td>\n",
       "      <td>NaN</td>\n",
       "      <td>0.22354</td>\n",
       "      <td>0.1864</td>\n",
       "      <td>0.1764</td>\n",
       "      <td>...</td>\n",
       "      <td>-75.58</td>\n",
       "      <td>0.0</td>\n",
       "      <td>0.0</td>\n",
       "      <td>0.0</td>\n",
       "      <td>0.0</td>\n",
       "      <td>1.0</td>\n",
       "      <td>0</td>\n",
       "      <td>0</td>\n",
       "      <td>0.0</td>\n",
       "      <td>1</td>\n",
       "    </tr>\n",
       "    <tr>\n",
       "      <th>113933</th>\n",
       "      <td>E6DB353036033497292EE43</td>\n",
       "      <td>537216</td>\n",
       "      <td>2011-11-03 20:42:55.333000000</td>\n",
       "      <td>NaN</td>\n",
       "      <td>36</td>\n",
       "      <td>FinalPaymentInProgress</td>\n",
       "      <td>NaN</td>\n",
       "      <td>0.13220</td>\n",
       "      <td>0.1110</td>\n",
       "      <td>0.1010</td>\n",
       "      <td>...</td>\n",
       "      <td>-30.05</td>\n",
       "      <td>0.0</td>\n",
       "      <td>0.0</td>\n",
       "      <td>0.0</td>\n",
       "      <td>0.0</td>\n",
       "      <td>1.0</td>\n",
       "      <td>0</td>\n",
       "      <td>0</td>\n",
       "      <td>0.0</td>\n",
       "      <td>22</td>\n",
       "    </tr>\n",
       "    <tr>\n",
       "      <th>113934</th>\n",
       "      <td>E6E13596170052029692BB1</td>\n",
       "      <td>1069178</td>\n",
       "      <td>2013-12-13 05:49:12.703000000</td>\n",
       "      <td>NaN</td>\n",
       "      <td>60</td>\n",
       "      <td>Current</td>\n",
       "      <td>NaN</td>\n",
       "      <td>0.23984</td>\n",
       "      <td>0.2150</td>\n",
       "      <td>0.2050</td>\n",
       "      <td>...</td>\n",
       "      <td>-16.91</td>\n",
       "      <td>0.0</td>\n",
       "      <td>0.0</td>\n",
       "      <td>0.0</td>\n",
       "      <td>0.0</td>\n",
       "      <td>1.0</td>\n",
       "      <td>0</td>\n",
       "      <td>0</td>\n",
       "      <td>0.0</td>\n",
       "      <td>119</td>\n",
       "    </tr>\n",
       "    <tr>\n",
       "      <th>113935</th>\n",
       "      <td>E6EB3531504622671970D9E</td>\n",
       "      <td>539056</td>\n",
       "      <td>2011-11-14 13:18:26.597000000</td>\n",
       "      <td>NaN</td>\n",
       "      <td>60</td>\n",
       "      <td>Completed</td>\n",
       "      <td>2013-08-13 00:00:00</td>\n",
       "      <td>0.28408</td>\n",
       "      <td>0.2605</td>\n",
       "      <td>0.2505</td>\n",
       "      <td>...</td>\n",
       "      <td>-235.05</td>\n",
       "      <td>0.0</td>\n",
       "      <td>0.0</td>\n",
       "      <td>0.0</td>\n",
       "      <td>0.0</td>\n",
       "      <td>1.0</td>\n",
       "      <td>0</td>\n",
       "      <td>0</td>\n",
       "      <td>0.0</td>\n",
       "      <td>274</td>\n",
       "    </tr>\n",
       "    <tr>\n",
       "      <th>113936</th>\n",
       "      <td>E6ED3600409833199F711B7</td>\n",
       "      <td>1140093</td>\n",
       "      <td>2014-01-15 09:27:37.657000000</td>\n",
       "      <td>NaN</td>\n",
       "      <td>36</td>\n",
       "      <td>Current</td>\n",
       "      <td>NaN</td>\n",
       "      <td>0.13189</td>\n",
       "      <td>0.1039</td>\n",
       "      <td>0.0939</td>\n",
       "      <td>...</td>\n",
       "      <td>-1.70</td>\n",
       "      <td>0.0</td>\n",
       "      <td>0.0</td>\n",
       "      <td>0.0</td>\n",
       "      <td>0.0</td>\n",
       "      <td>1.0</td>\n",
       "      <td>0</td>\n",
       "      <td>0</td>\n",
       "      <td>0.0</td>\n",
       "      <td>1</td>\n",
       "    </tr>\n",
       "  </tbody>\n",
       "</table>\n",
       "<p>5 rows × 81 columns</p>\n",
       "</div>"
      ],
      "text/plain": [
       "                     ListingKey  ListingNumber            ListingCreationDate  \\\n",
       "113932  E6D9357655724827169606C         753087  2013-04-14 05:55:02.663000000   \n",
       "113933  E6DB353036033497292EE43         537216  2011-11-03 20:42:55.333000000   \n",
       "113934  E6E13596170052029692BB1        1069178  2013-12-13 05:49:12.703000000   \n",
       "113935  E6EB3531504622671970D9E         539056  2011-11-14 13:18:26.597000000   \n",
       "113936  E6ED3600409833199F711B7        1140093  2014-01-15 09:27:37.657000000   \n",
       "\n",
       "       CreditGrade  Term              LoanStatus           ClosedDate  \\\n",
       "113932         NaN    36                 Current                  NaN   \n",
       "113933         NaN    36  FinalPaymentInProgress                  NaN   \n",
       "113934         NaN    60                 Current                  NaN   \n",
       "113935         NaN    60               Completed  2013-08-13 00:00:00   \n",
       "113936         NaN    36                 Current                  NaN   \n",
       "\n",
       "        BorrowerAPR  BorrowerRate  LenderYield  ...  LP_ServiceFees  \\\n",
       "113932      0.22354        0.1864       0.1764  ...          -75.58   \n",
       "113933      0.13220        0.1110       0.1010  ...          -30.05   \n",
       "113934      0.23984        0.2150       0.2050  ...          -16.91   \n",
       "113935      0.28408        0.2605       0.2505  ...         -235.05   \n",
       "113936      0.13189        0.1039       0.0939  ...           -1.70   \n",
       "\n",
       "        LP_CollectionFees  LP_GrossPrincipalLoss  LP_NetPrincipalLoss  \\\n",
       "113932                0.0                    0.0                  0.0   \n",
       "113933                0.0                    0.0                  0.0   \n",
       "113934                0.0                    0.0                  0.0   \n",
       "113935                0.0                    0.0                  0.0   \n",
       "113936                0.0                    0.0                  0.0   \n",
       "\n",
       "       LP_NonPrincipalRecoverypayments  PercentFunded  Recommendations  \\\n",
       "113932                             0.0            1.0                0   \n",
       "113933                             0.0            1.0                0   \n",
       "113934                             0.0            1.0                0   \n",
       "113935                             0.0            1.0                0   \n",
       "113936                             0.0            1.0                0   \n",
       "\n",
       "       InvestmentFromFriendsCount InvestmentFromFriendsAmount Investors  \n",
       "113932                          0                         0.0         1  \n",
       "113933                          0                         0.0        22  \n",
       "113934                          0                         0.0       119  \n",
       "113935                          0                         0.0       274  \n",
       "113936                          0                         0.0         1  \n",
       "\n",
       "[5 rows x 81 columns]"
      ]
     },
     "execution_count": 4,
     "metadata": {},
     "output_type": "execute_result"
    }
   ],
   "source": [
    "#inspect the last 5 rows\n",
    "loans.tail()"
   ]
  },
  {
   "cell_type": "code",
   "execution_count": 5,
   "id": "e88bb773",
   "metadata": {},
   "outputs": [
    {
     "data": {
      "text/plain": [
       "(113937, 81)"
      ]
     },
     "execution_count": 5,
     "metadata": {},
     "output_type": "execute_result"
    }
   ],
   "source": [
    "#get the dimension\n",
    "loans.shape"
   ]
  },
  {
   "cell_type": "markdown",
   "id": "81c29157",
   "metadata": {},
   "source": [
    "> The dimension of the dataset shows that there are 113,937 observations and 81 features in this dataset.\n",
    "Which simply means it is a large data set."
   ]
  },
  {
   "cell_type": "code",
   "execution_count": 6,
   "id": "e1e35de9",
   "metadata": {},
   "outputs": [
    {
     "data": {
      "text/plain": [
       "<bound method DataFrame.info of                      ListingKey  ListingNumber            ListingCreationDate  \\\n",
       "0       1021339766868145413AB3B         193129  2007-08-26 19:09:29.263000000   \n",
       "1       10273602499503308B223C1        1209647  2014-02-27 08:28:07.900000000   \n",
       "2       0EE9337825851032864889A          81716  2007-01-05 15:00:47.090000000   \n",
       "3       0EF5356002482715299901A         658116  2012-10-22 11:02:35.010000000   \n",
       "4       0F023589499656230C5E3E2         909464  2013-09-14 18:38:39.097000000   \n",
       "...                         ...            ...                            ...   \n",
       "113932  E6D9357655724827169606C         753087  2013-04-14 05:55:02.663000000   \n",
       "113933  E6DB353036033497292EE43         537216  2011-11-03 20:42:55.333000000   \n",
       "113934  E6E13596170052029692BB1        1069178  2013-12-13 05:49:12.703000000   \n",
       "113935  E6EB3531504622671970D9E         539056  2011-11-14 13:18:26.597000000   \n",
       "113936  E6ED3600409833199F711B7        1140093  2014-01-15 09:27:37.657000000   \n",
       "\n",
       "       CreditGrade  Term              LoanStatus           ClosedDate  \\\n",
       "0                C    36               Completed  2009-08-14 00:00:00   \n",
       "1              NaN    36                 Current                  NaN   \n",
       "2               HR    36               Completed  2009-12-17 00:00:00   \n",
       "3              NaN    36                 Current                  NaN   \n",
       "4              NaN    36                 Current                  NaN   \n",
       "...            ...   ...                     ...                  ...   \n",
       "113932         NaN    36                 Current                  NaN   \n",
       "113933         NaN    36  FinalPaymentInProgress                  NaN   \n",
       "113934         NaN    60                 Current                  NaN   \n",
       "113935         NaN    60               Completed  2013-08-13 00:00:00   \n",
       "113936         NaN    36                 Current                  NaN   \n",
       "\n",
       "        BorrowerAPR  BorrowerRate  LenderYield  ...  LP_ServiceFees  \\\n",
       "0           0.16516        0.1580       0.1380  ...         -133.18   \n",
       "1           0.12016        0.0920       0.0820  ...            0.00   \n",
       "2           0.28269        0.2750       0.2400  ...          -24.20   \n",
       "3           0.12528        0.0974       0.0874  ...         -108.01   \n",
       "4           0.24614        0.2085       0.1985  ...          -60.27   \n",
       "...             ...           ...          ...  ...             ...   \n",
       "113932      0.22354        0.1864       0.1764  ...          -75.58   \n",
       "113933      0.13220        0.1110       0.1010  ...          -30.05   \n",
       "113934      0.23984        0.2150       0.2050  ...          -16.91   \n",
       "113935      0.28408        0.2605       0.2505  ...         -235.05   \n",
       "113936      0.13189        0.1039       0.0939  ...           -1.70   \n",
       "\n",
       "        LP_CollectionFees  LP_GrossPrincipalLoss  LP_NetPrincipalLoss  \\\n",
       "0                     0.0                    0.0                  0.0   \n",
       "1                     0.0                    0.0                  0.0   \n",
       "2                     0.0                    0.0                  0.0   \n",
       "3                     0.0                    0.0                  0.0   \n",
       "4                     0.0                    0.0                  0.0   \n",
       "...                   ...                    ...                  ...   \n",
       "113932                0.0                    0.0                  0.0   \n",
       "113933                0.0                    0.0                  0.0   \n",
       "113934                0.0                    0.0                  0.0   \n",
       "113935                0.0                    0.0                  0.0   \n",
       "113936                0.0                    0.0                  0.0   \n",
       "\n",
       "       LP_NonPrincipalRecoverypayments  PercentFunded  Recommendations  \\\n",
       "0                                  0.0            1.0                0   \n",
       "1                                  0.0            1.0                0   \n",
       "2                                  0.0            1.0                0   \n",
       "3                                  0.0            1.0                0   \n",
       "4                                  0.0            1.0                0   \n",
       "...                                ...            ...              ...   \n",
       "113932                             0.0            1.0                0   \n",
       "113933                             0.0            1.0                0   \n",
       "113934                             0.0            1.0                0   \n",
       "113935                             0.0            1.0                0   \n",
       "113936                             0.0            1.0                0   \n",
       "\n",
       "       InvestmentFromFriendsCount InvestmentFromFriendsAmount Investors  \n",
       "0                               0                         0.0       258  \n",
       "1                               0                         0.0         1  \n",
       "2                               0                         0.0        41  \n",
       "3                               0                         0.0       158  \n",
       "4                               0                         0.0        20  \n",
       "...                           ...                         ...       ...  \n",
       "113932                          0                         0.0         1  \n",
       "113933                          0                         0.0        22  \n",
       "113934                          0                         0.0       119  \n",
       "113935                          0                         0.0       274  \n",
       "113936                          0                         0.0         1  \n",
       "\n",
       "[113937 rows x 81 columns]>"
      ]
     },
     "execution_count": 6,
     "metadata": {},
     "output_type": "execute_result"
    }
   ],
   "source": [
    "#programmatic inspection\n",
    "loans.info"
   ]
  },
  {
   "cell_type": "code",
   "execution_count": 7,
   "id": "5254a779",
   "metadata": {},
   "outputs": [
    {
     "data": {
      "text/plain": [
       "Index(['ListingKey', 'ListingNumber', 'ListingCreationDate', 'CreditGrade',\n",
       "       'Term', 'LoanStatus', 'ClosedDate', 'BorrowerAPR', 'BorrowerRate',\n",
       "       'LenderYield', 'EstimatedEffectiveYield', 'EstimatedLoss',\n",
       "       'EstimatedReturn', 'ProsperRating (numeric)', 'ProsperRating (Alpha)',\n",
       "       'ProsperScore', 'ListingCategory (numeric)', 'BorrowerState',\n",
       "       'Occupation', 'EmploymentStatus', 'EmploymentStatusDuration',\n",
       "       'IsBorrowerHomeowner', 'CurrentlyInGroup', 'GroupKey',\n",
       "       'DateCreditPulled', 'CreditScoreRangeLower', 'CreditScoreRangeUpper',\n",
       "       'FirstRecordedCreditLine', 'CurrentCreditLines', 'OpenCreditLines',\n",
       "       'TotalCreditLinespast7years', 'OpenRevolvingAccounts',\n",
       "       'OpenRevolvingMonthlyPayment', 'InquiriesLast6Months', 'TotalInquiries',\n",
       "       'CurrentDelinquencies', 'AmountDelinquent', 'DelinquenciesLast7Years',\n",
       "       'PublicRecordsLast10Years', 'PublicRecordsLast12Months',\n",
       "       'RevolvingCreditBalance', 'BankcardUtilization',\n",
       "       'AvailableBankcardCredit', 'TotalTrades',\n",
       "       'TradesNeverDelinquent (percentage)', 'TradesOpenedLast6Months',\n",
       "       'DebtToIncomeRatio', 'IncomeRange', 'IncomeVerifiable',\n",
       "       'StatedMonthlyIncome', 'LoanKey', 'TotalProsperLoans',\n",
       "       'TotalProsperPaymentsBilled', 'OnTimeProsperPayments',\n",
       "       'ProsperPaymentsLessThanOneMonthLate',\n",
       "       'ProsperPaymentsOneMonthPlusLate', 'ProsperPrincipalBorrowed',\n",
       "       'ProsperPrincipalOutstanding', 'ScorexChangeAtTimeOfListing',\n",
       "       'LoanCurrentDaysDelinquent', 'LoanFirstDefaultedCycleNumber',\n",
       "       'LoanMonthsSinceOrigination', 'LoanNumber', 'LoanOriginalAmount',\n",
       "       'LoanOriginationDate', 'LoanOriginationQuarter', 'MemberKey',\n",
       "       'MonthlyLoanPayment', 'LP_CustomerPayments',\n",
       "       'LP_CustomerPrincipalPayments', 'LP_InterestandFees', 'LP_ServiceFees',\n",
       "       'LP_CollectionFees', 'LP_GrossPrincipalLoss', 'LP_NetPrincipalLoss',\n",
       "       'LP_NonPrincipalRecoverypayments', 'PercentFunded', 'Recommendations',\n",
       "       'InvestmentFromFriendsCount', 'InvestmentFromFriendsAmount',\n",
       "       'Investors'],\n",
       "      dtype='object')"
      ]
     },
     "execution_count": 7,
     "metadata": {},
     "output_type": "execute_result"
    }
   ],
   "source": [
    "#looking at all the columns\n",
    "loans.columns"
   ]
  },
  {
   "cell_type": "markdown",
   "id": "5314f37b",
   "metadata": {},
   "source": [
    "> Some of the obviously important columns are LoanStatus,Occupation,\n",
    "EmploymentStatus,Term,EmploymentStatusDuration,\n",
    "IsBorrowerHomeowner,OnTimeProsperPayments,StatedMonthlyIncome,\n",
    "BorrowerRate,ProsperScore,ListingCategory,IncomeRange."
   ]
  },
  {
   "cell_type": "code",
   "execution_count": 8,
   "id": "163c16e8",
   "metadata": {},
   "outputs": [
    {
     "name": "stdout",
     "output_type": "stream",
     "text": [
      "0 ListingKey\n",
      "1 ListingNumber\n",
      "2 ListingCreationDate\n",
      "3 CreditGrade\n",
      "4 Term\n",
      "5 LoanStatus\n",
      "6 ClosedDate\n",
      "7 BorrowerAPR\n",
      "8 BorrowerRate\n",
      "9 LenderYield\n",
      "10 EstimatedEffectiveYield\n",
      "11 EstimatedLoss\n",
      "12 EstimatedReturn\n",
      "13 ProsperRating (numeric)\n",
      "14 ProsperRating (Alpha)\n",
      "15 ProsperScore\n",
      "16 ListingCategory (numeric)\n",
      "17 BorrowerState\n",
      "18 Occupation\n",
      "19 EmploymentStatus\n",
      "20 EmploymentStatusDuration\n",
      "21 IsBorrowerHomeowner\n",
      "22 CurrentlyInGroup\n",
      "23 GroupKey\n",
      "24 DateCreditPulled\n",
      "25 CreditScoreRangeLower\n",
      "26 CreditScoreRangeUpper\n",
      "27 FirstRecordedCreditLine\n",
      "28 CurrentCreditLines\n",
      "29 OpenCreditLines\n",
      "30 TotalCreditLinespast7years\n",
      "31 OpenRevolvingAccounts\n",
      "32 OpenRevolvingMonthlyPayment\n",
      "33 InquiriesLast6Months\n",
      "34 TotalInquiries\n",
      "35 CurrentDelinquencies\n",
      "36 AmountDelinquent\n",
      "37 DelinquenciesLast7Years\n",
      "38 PublicRecordsLast10Years\n",
      "39 PublicRecordsLast12Months\n",
      "40 RevolvingCreditBalance\n",
      "41 BankcardUtilization\n",
      "42 AvailableBankcardCredit\n",
      "43 TotalTrades\n",
      "44 TradesNeverDelinquent (percentage)\n",
      "45 TradesOpenedLast6Months\n",
      "46 DebtToIncomeRatio\n",
      "47 IncomeRange\n",
      "48 IncomeVerifiable\n",
      "49 StatedMonthlyIncome\n",
      "50 LoanKey\n",
      "51 TotalProsperLoans\n",
      "52 TotalProsperPaymentsBilled\n",
      "53 OnTimeProsperPayments\n",
      "54 ProsperPaymentsLessThanOneMonthLate\n",
      "55 ProsperPaymentsOneMonthPlusLate\n",
      "56 ProsperPrincipalBorrowed\n",
      "57 ProsperPrincipalOutstanding\n",
      "58 ScorexChangeAtTimeOfListing\n",
      "59 LoanCurrentDaysDelinquent\n",
      "60 LoanFirstDefaultedCycleNumber\n",
      "61 LoanMonthsSinceOrigination\n",
      "62 LoanNumber\n",
      "63 LoanOriginalAmount\n",
      "64 LoanOriginationDate\n",
      "65 LoanOriginationQuarter\n",
      "66 MemberKey\n",
      "67 MonthlyLoanPayment\n",
      "68 LP_CustomerPayments\n",
      "69 LP_CustomerPrincipalPayments\n",
      "70 LP_InterestandFees\n",
      "71 LP_ServiceFees\n",
      "72 LP_CollectionFees\n",
      "73 LP_GrossPrincipalLoss\n",
      "74 LP_NetPrincipalLoss\n",
      "75 LP_NonPrincipalRecoverypayments\n",
      "76 PercentFunded\n",
      "77 Recommendations\n",
      "78 InvestmentFromFriendsCount\n",
      "79 InvestmentFromFriendsAmount\n",
      "80 Investors\n"
     ]
    }
   ],
   "source": [
    "for i,v in enumerate(loans.columns):\n",
    "    print(i,v)"
   ]
  },
  {
   "cell_type": "markdown",
   "id": "a298d536",
   "metadata": {},
   "source": [
    "###### Looking atmy columns from some little inspections i ran, we can group the varibles into three types\n",
    "- Applicant Variables e.g occupation, Income employment details\n",
    "- Loan features e.g Interest rate, Amount of loan, Loan Purpose\n",
    "- Customer  behaviour(i.e behaviour after loan is generated) e.g\n"
   ]
  },
  {
   "cell_type": "code",
   "execution_count": 9,
   "id": "0e42f92c",
   "metadata": {},
   "outputs": [
    {
     "data": {
      "text/plain": [
       "ListingKey                      object\n",
       "ListingNumber                    int64\n",
       "ListingCreationDate             object\n",
       "CreditGrade                     object\n",
       "Term                             int64\n",
       "                                ...   \n",
       "PercentFunded                  float64\n",
       "Recommendations                  int64\n",
       "InvestmentFromFriendsCount       int64\n",
       "InvestmentFromFriendsAmount    float64\n",
       "Investors                        int64\n",
       "Length: 81, dtype: object"
      ]
     },
     "execution_count": 9,
     "metadata": {},
     "output_type": "execute_result"
    }
   ],
   "source": [
    "loans.dtypes"
   ]
  },
  {
   "cell_type": "code",
   "execution_count": 10,
   "id": "83aede80",
   "metadata": {},
   "outputs": [
    {
     "data": {
      "text/html": [
       "<div>\n",
       "<style scoped>\n",
       "    .dataframe tbody tr th:only-of-type {\n",
       "        vertical-align: middle;\n",
       "    }\n",
       "\n",
       "    .dataframe tbody tr th {\n",
       "        vertical-align: top;\n",
       "    }\n",
       "\n",
       "    .dataframe thead th {\n",
       "        text-align: right;\n",
       "    }\n",
       "</style>\n",
       "<table border=\"1\" class=\"dataframe\">\n",
       "  <thead>\n",
       "    <tr style=\"text-align: right;\">\n",
       "      <th></th>\n",
       "      <th>ListingKey</th>\n",
       "      <th>ListingNumber</th>\n",
       "      <th>ListingCreationDate</th>\n",
       "      <th>CreditGrade</th>\n",
       "      <th>Term</th>\n",
       "      <th>LoanStatus</th>\n",
       "      <th>ClosedDate</th>\n",
       "      <th>BorrowerAPR</th>\n",
       "      <th>BorrowerRate</th>\n",
       "      <th>LenderYield</th>\n",
       "      <th>...</th>\n",
       "      <th>LP_ServiceFees</th>\n",
       "      <th>LP_CollectionFees</th>\n",
       "      <th>LP_GrossPrincipalLoss</th>\n",
       "      <th>LP_NetPrincipalLoss</th>\n",
       "      <th>LP_NonPrincipalRecoverypayments</th>\n",
       "      <th>PercentFunded</th>\n",
       "      <th>Recommendations</th>\n",
       "      <th>InvestmentFromFriendsCount</th>\n",
       "      <th>InvestmentFromFriendsAmount</th>\n",
       "      <th>Investors</th>\n",
       "    </tr>\n",
       "  </thead>\n",
       "  <tbody>\n",
       "    <tr>\n",
       "      <th>0</th>\n",
       "      <td>NaN</td>\n",
       "      <td>NaN</td>\n",
       "      <td>NaN</td>\n",
       "      <td>NaN</td>\n",
       "      <td>NaN</td>\n",
       "      <td>NaN</td>\n",
       "      <td>NaN</td>\n",
       "      <td>NaN</td>\n",
       "      <td>NaN</td>\n",
       "      <td>NaN</td>\n",
       "      <td>...</td>\n",
       "      <td>NaN</td>\n",
       "      <td>NaN</td>\n",
       "      <td>NaN</td>\n",
       "      <td>NaN</td>\n",
       "      <td>NaN</td>\n",
       "      <td>NaN</td>\n",
       "      <td>NaN</td>\n",
       "      <td>NaN</td>\n",
       "      <td>NaN</td>\n",
       "      <td>NaN</td>\n",
       "    </tr>\n",
       "    <tr>\n",
       "      <th>1</th>\n",
       "      <td>NaN</td>\n",
       "      <td>NaN</td>\n",
       "      <td>NaN</td>\n",
       "      <td>NaN</td>\n",
       "      <td>NaN</td>\n",
       "      <td>NaN</td>\n",
       "      <td>NaN</td>\n",
       "      <td>NaN</td>\n",
       "      <td>NaN</td>\n",
       "      <td>NaN</td>\n",
       "      <td>...</td>\n",
       "      <td>NaN</td>\n",
       "      <td>NaN</td>\n",
       "      <td>NaN</td>\n",
       "      <td>NaN</td>\n",
       "      <td>NaN</td>\n",
       "      <td>NaN</td>\n",
       "      <td>NaN</td>\n",
       "      <td>NaN</td>\n",
       "      <td>NaN</td>\n",
       "      <td>NaN</td>\n",
       "    </tr>\n",
       "    <tr>\n",
       "      <th>2</th>\n",
       "      <td>NaN</td>\n",
       "      <td>NaN</td>\n",
       "      <td>NaN</td>\n",
       "      <td>NaN</td>\n",
       "      <td>NaN</td>\n",
       "      <td>NaN</td>\n",
       "      <td>NaN</td>\n",
       "      <td>NaN</td>\n",
       "      <td>NaN</td>\n",
       "      <td>NaN</td>\n",
       "      <td>...</td>\n",
       "      <td>NaN</td>\n",
       "      <td>NaN</td>\n",
       "      <td>NaN</td>\n",
       "      <td>NaN</td>\n",
       "      <td>NaN</td>\n",
       "      <td>NaN</td>\n",
       "      <td>NaN</td>\n",
       "      <td>NaN</td>\n",
       "      <td>NaN</td>\n",
       "      <td>NaN</td>\n",
       "    </tr>\n",
       "    <tr>\n",
       "      <th>3</th>\n",
       "      <td>NaN</td>\n",
       "      <td>NaN</td>\n",
       "      <td>NaN</td>\n",
       "      <td>NaN</td>\n",
       "      <td>NaN</td>\n",
       "      <td>NaN</td>\n",
       "      <td>NaN</td>\n",
       "      <td>NaN</td>\n",
       "      <td>NaN</td>\n",
       "      <td>NaN</td>\n",
       "      <td>...</td>\n",
       "      <td>NaN</td>\n",
       "      <td>NaN</td>\n",
       "      <td>NaN</td>\n",
       "      <td>NaN</td>\n",
       "      <td>NaN</td>\n",
       "      <td>NaN</td>\n",
       "      <td>NaN</td>\n",
       "      <td>NaN</td>\n",
       "      <td>NaN</td>\n",
       "      <td>NaN</td>\n",
       "    </tr>\n",
       "    <tr>\n",
       "      <th>4</th>\n",
       "      <td>NaN</td>\n",
       "      <td>NaN</td>\n",
       "      <td>NaN</td>\n",
       "      <td>NaN</td>\n",
       "      <td>NaN</td>\n",
       "      <td>NaN</td>\n",
       "      <td>NaN</td>\n",
       "      <td>NaN</td>\n",
       "      <td>NaN</td>\n",
       "      <td>NaN</td>\n",
       "      <td>...</td>\n",
       "      <td>NaN</td>\n",
       "      <td>NaN</td>\n",
       "      <td>NaN</td>\n",
       "      <td>NaN</td>\n",
       "      <td>NaN</td>\n",
       "      <td>NaN</td>\n",
       "      <td>NaN</td>\n",
       "      <td>NaN</td>\n",
       "      <td>NaN</td>\n",
       "      <td>NaN</td>\n",
       "    </tr>\n",
       "    <tr>\n",
       "      <th>...</th>\n",
       "      <td>...</td>\n",
       "      <td>...</td>\n",
       "      <td>...</td>\n",
       "      <td>...</td>\n",
       "      <td>...</td>\n",
       "      <td>...</td>\n",
       "      <td>...</td>\n",
       "      <td>...</td>\n",
       "      <td>...</td>\n",
       "      <td>...</td>\n",
       "      <td>...</td>\n",
       "      <td>...</td>\n",
       "      <td>...</td>\n",
       "      <td>...</td>\n",
       "      <td>...</td>\n",
       "      <td>...</td>\n",
       "      <td>...</td>\n",
       "      <td>...</td>\n",
       "      <td>...</td>\n",
       "      <td>...</td>\n",
       "      <td>...</td>\n",
       "    </tr>\n",
       "    <tr>\n",
       "      <th>113932</th>\n",
       "      <td>NaN</td>\n",
       "      <td>NaN</td>\n",
       "      <td>NaN</td>\n",
       "      <td>NaN</td>\n",
       "      <td>NaN</td>\n",
       "      <td>NaN</td>\n",
       "      <td>NaN</td>\n",
       "      <td>NaN</td>\n",
       "      <td>NaN</td>\n",
       "      <td>NaN</td>\n",
       "      <td>...</td>\n",
       "      <td>NaN</td>\n",
       "      <td>NaN</td>\n",
       "      <td>NaN</td>\n",
       "      <td>NaN</td>\n",
       "      <td>NaN</td>\n",
       "      <td>NaN</td>\n",
       "      <td>NaN</td>\n",
       "      <td>NaN</td>\n",
       "      <td>NaN</td>\n",
       "      <td>NaN</td>\n",
       "    </tr>\n",
       "    <tr>\n",
       "      <th>113933</th>\n",
       "      <td>NaN</td>\n",
       "      <td>NaN</td>\n",
       "      <td>NaN</td>\n",
       "      <td>NaN</td>\n",
       "      <td>NaN</td>\n",
       "      <td>NaN</td>\n",
       "      <td>NaN</td>\n",
       "      <td>NaN</td>\n",
       "      <td>NaN</td>\n",
       "      <td>NaN</td>\n",
       "      <td>...</td>\n",
       "      <td>NaN</td>\n",
       "      <td>NaN</td>\n",
       "      <td>NaN</td>\n",
       "      <td>NaN</td>\n",
       "      <td>NaN</td>\n",
       "      <td>NaN</td>\n",
       "      <td>NaN</td>\n",
       "      <td>NaN</td>\n",
       "      <td>NaN</td>\n",
       "      <td>NaN</td>\n",
       "    </tr>\n",
       "    <tr>\n",
       "      <th>113934</th>\n",
       "      <td>NaN</td>\n",
       "      <td>NaN</td>\n",
       "      <td>NaN</td>\n",
       "      <td>NaN</td>\n",
       "      <td>NaN</td>\n",
       "      <td>NaN</td>\n",
       "      <td>NaN</td>\n",
       "      <td>NaN</td>\n",
       "      <td>NaN</td>\n",
       "      <td>NaN</td>\n",
       "      <td>...</td>\n",
       "      <td>NaN</td>\n",
       "      <td>NaN</td>\n",
       "      <td>NaN</td>\n",
       "      <td>NaN</td>\n",
       "      <td>NaN</td>\n",
       "      <td>NaN</td>\n",
       "      <td>NaN</td>\n",
       "      <td>NaN</td>\n",
       "      <td>NaN</td>\n",
       "      <td>NaN</td>\n",
       "    </tr>\n",
       "    <tr>\n",
       "      <th>113935</th>\n",
       "      <td>NaN</td>\n",
       "      <td>NaN</td>\n",
       "      <td>NaN</td>\n",
       "      <td>NaN</td>\n",
       "      <td>NaN</td>\n",
       "      <td>NaN</td>\n",
       "      <td>NaN</td>\n",
       "      <td>NaN</td>\n",
       "      <td>NaN</td>\n",
       "      <td>NaN</td>\n",
       "      <td>...</td>\n",
       "      <td>NaN</td>\n",
       "      <td>NaN</td>\n",
       "      <td>NaN</td>\n",
       "      <td>NaN</td>\n",
       "      <td>NaN</td>\n",
       "      <td>NaN</td>\n",
       "      <td>NaN</td>\n",
       "      <td>NaN</td>\n",
       "      <td>NaN</td>\n",
       "      <td>NaN</td>\n",
       "    </tr>\n",
       "    <tr>\n",
       "      <th>113936</th>\n",
       "      <td>NaN</td>\n",
       "      <td>NaN</td>\n",
       "      <td>NaN</td>\n",
       "      <td>NaN</td>\n",
       "      <td>NaN</td>\n",
       "      <td>NaN</td>\n",
       "      <td>NaN</td>\n",
       "      <td>NaN</td>\n",
       "      <td>NaN</td>\n",
       "      <td>NaN</td>\n",
       "      <td>...</td>\n",
       "      <td>NaN</td>\n",
       "      <td>NaN</td>\n",
       "      <td>NaN</td>\n",
       "      <td>NaN</td>\n",
       "      <td>NaN</td>\n",
       "      <td>NaN</td>\n",
       "      <td>NaN</td>\n",
       "      <td>NaN</td>\n",
       "      <td>NaN</td>\n",
       "      <td>NaN</td>\n",
       "    </tr>\n",
       "  </tbody>\n",
       "</table>\n",
       "<p>113937 rows × 81 columns</p>\n",
       "</div>"
      ],
      "text/plain": [
       "       ListingKey  ListingNumber ListingCreationDate CreditGrade  Term  \\\n",
       "0             NaN            NaN                 NaN         NaN   NaN   \n",
       "1             NaN            NaN                 NaN         NaN   NaN   \n",
       "2             NaN            NaN                 NaN         NaN   NaN   \n",
       "3             NaN            NaN                 NaN         NaN   NaN   \n",
       "4             NaN            NaN                 NaN         NaN   NaN   \n",
       "...           ...            ...                 ...         ...   ...   \n",
       "113932        NaN            NaN                 NaN         NaN   NaN   \n",
       "113933        NaN            NaN                 NaN         NaN   NaN   \n",
       "113934        NaN            NaN                 NaN         NaN   NaN   \n",
       "113935        NaN            NaN                 NaN         NaN   NaN   \n",
       "113936        NaN            NaN                 NaN         NaN   NaN   \n",
       "\n",
       "       LoanStatus ClosedDate  BorrowerAPR  BorrowerRate  LenderYield  ...  \\\n",
       "0             NaN        NaN          NaN           NaN          NaN  ...   \n",
       "1             NaN        NaN          NaN           NaN          NaN  ...   \n",
       "2             NaN        NaN          NaN           NaN          NaN  ...   \n",
       "3             NaN        NaN          NaN           NaN          NaN  ...   \n",
       "4             NaN        NaN          NaN           NaN          NaN  ...   \n",
       "...           ...        ...          ...           ...          ...  ...   \n",
       "113932        NaN        NaN          NaN           NaN          NaN  ...   \n",
       "113933        NaN        NaN          NaN           NaN          NaN  ...   \n",
       "113934        NaN        NaN          NaN           NaN          NaN  ...   \n",
       "113935        NaN        NaN          NaN           NaN          NaN  ...   \n",
       "113936        NaN        NaN          NaN           NaN          NaN  ...   \n",
       "\n",
       "        LP_ServiceFees  LP_CollectionFees  LP_GrossPrincipalLoss  \\\n",
       "0                  NaN                NaN                    NaN   \n",
       "1                  NaN                NaN                    NaN   \n",
       "2                  NaN                NaN                    NaN   \n",
       "3                  NaN                NaN                    NaN   \n",
       "4                  NaN                NaN                    NaN   \n",
       "...                ...                ...                    ...   \n",
       "113932             NaN                NaN                    NaN   \n",
       "113933             NaN                NaN                    NaN   \n",
       "113934             NaN                NaN                    NaN   \n",
       "113935             NaN                NaN                    NaN   \n",
       "113936             NaN                NaN                    NaN   \n",
       "\n",
       "        LP_NetPrincipalLoss LP_NonPrincipalRecoverypayments  PercentFunded  \\\n",
       "0                       NaN                             NaN            NaN   \n",
       "1                       NaN                             NaN            NaN   \n",
       "2                       NaN                             NaN            NaN   \n",
       "3                       NaN                             NaN            NaN   \n",
       "4                       NaN                             NaN            NaN   \n",
       "...                     ...                             ...            ...   \n",
       "113932                  NaN                             NaN            NaN   \n",
       "113933                  NaN                             NaN            NaN   \n",
       "113934                  NaN                             NaN            NaN   \n",
       "113935                  NaN                             NaN            NaN   \n",
       "113936                  NaN                             NaN            NaN   \n",
       "\n",
       "        Recommendations InvestmentFromFriendsCount  \\\n",
       "0                   NaN                        NaN   \n",
       "1                   NaN                        NaN   \n",
       "2                   NaN                        NaN   \n",
       "3                   NaN                        NaN   \n",
       "4                   NaN                        NaN   \n",
       "...                 ...                        ...   \n",
       "113932              NaN                        NaN   \n",
       "113933              NaN                        NaN   \n",
       "113934              NaN                        NaN   \n",
       "113935              NaN                        NaN   \n",
       "113936              NaN                        NaN   \n",
       "\n",
       "       InvestmentFromFriendsAmount Investors  \n",
       "0                              NaN       NaN  \n",
       "1                              NaN       NaN  \n",
       "2                              NaN       NaN  \n",
       "3                              NaN       NaN  \n",
       "4                              NaN       NaN  \n",
       "...                            ...       ...  \n",
       "113932                         NaN       NaN  \n",
       "113933                         NaN       NaN  \n",
       "113934                         NaN       NaN  \n",
       "113935                         NaN       NaN  \n",
       "113936                         NaN       NaN  \n",
       "\n",
       "[113937 rows x 81 columns]"
      ]
     },
     "execution_count": 10,
     "metadata": {},
     "output_type": "execute_result"
    }
   ],
   "source": [
    "loans[loans.isnull()]"
   ]
  },
  {
   "cell_type": "code",
   "execution_count": 11,
   "id": "46dcf378",
   "metadata": {},
   "outputs": [
    {
     "data": {
      "text/plain": [
       "ListingKey                         0\n",
       "ListingNumber                      0\n",
       "ListingCreationDate                0\n",
       "CreditGrade                    84984\n",
       "Term                               0\n",
       "                               ...  \n",
       "PercentFunded                      0\n",
       "Recommendations                    0\n",
       "InvestmentFromFriendsCount         0\n",
       "InvestmentFromFriendsAmount        0\n",
       "Investors                          0\n",
       "Length: 81, dtype: int64"
      ]
     },
     "execution_count": 11,
     "metadata": {},
     "output_type": "execute_result"
    }
   ],
   "source": [
    "#check the sum of missing numbers in each features\n",
    "loans.isnull().sum()"
   ]
  },
  {
   "cell_type": "code",
   "execution_count": 12,
   "id": "1cb7c723",
   "metadata": {},
   "outputs": [
    {
     "data": {
      "text/plain": [
       "RangeIndex(start=0, stop=113937, step=1)"
      ]
     },
     "execution_count": 12,
     "metadata": {},
     "output_type": "execute_result"
    }
   ],
   "source": [
    "#get the index\n",
    "loans.index"
   ]
  },
  {
   "cell_type": "code",
   "execution_count": 13,
   "id": "03e727a8",
   "metadata": {},
   "outputs": [
    {
     "data": {
      "text/plain": [
       "ListingKey                      0.0\n",
       "ListingNumber                   0.0\n",
       "ListingCreationDate             0.0\n",
       "CreditGrade                    75.0\n",
       "Term                            0.0\n",
       "                               ... \n",
       "PercentFunded                   0.0\n",
       "Recommendations                 0.0\n",
       "InvestmentFromFriendsCount      0.0\n",
       "InvestmentFromFriendsAmount     0.0\n",
       "Investors                       0.0\n",
       "Length: 81, dtype: float64"
      ]
     },
     "execution_count": 13,
     "metadata": {},
     "output_type": "execute_result"
    }
   ],
   "source": [
    "#percentage of missing values in each column\n",
    "round(loans.isnull().sum()/len(loans.index),2)*100"
   ]
  },
  {
   "cell_type": "markdown",
   "id": "ecba9468",
   "metadata": {},
   "source": [
    "> although most of the columns is not seen well but we can see that a column has 75% missing numbers"
   ]
  },
  {
   "cell_type": "code",
   "execution_count": 14,
   "id": "91a04bc8",
   "metadata": {},
   "outputs": [
    {
     "data": {
      "text/plain": [
       "Index(['CreditGrade', 'ClosedDate', 'GroupKey', 'TotalProsperLoans',\n",
       "       'TotalProsperPaymentsBilled', 'OnTimeProsperPayments',\n",
       "       'ProsperPaymentsLessThanOneMonthLate',\n",
       "       'ProsperPaymentsOneMonthPlusLate', 'ProsperPrincipalBorrowed',\n",
       "       'ProsperPrincipalOutstanding', 'ScorexChangeAtTimeOfListing',\n",
       "       'LoanFirstDefaultedCycleNumber'],\n",
       "      dtype='object')"
      ]
     },
     "execution_count": 14,
     "metadata": {},
     "output_type": "execute_result"
    }
   ],
   "source": [
    "#print out columns that that had more than 50% missing numbers\n",
    "missing_columns=loans.columns[(loans.isnull().sum()/len(loans.index))*100>50]\n",
    "missing_columns"
   ]
  },
  {
   "cell_type": "markdown",
   "id": "ef74d03a",
   "metadata": {},
   "source": [
    "> These columns have more than 50% missing values and none or most of them are not part of the columns i really wanted to use for my analysis so i will be dealing with them by droppind them in the cleaning sextion"
   ]
  },
  {
   "cell_type": "code",
   "execution_count": 15,
   "id": "653e9538",
   "metadata": {},
   "outputs": [
    {
     "data": {
      "text/html": [
       "<div>\n",
       "<style scoped>\n",
       "    .dataframe tbody tr th:only-of-type {\n",
       "        vertical-align: middle;\n",
       "    }\n",
       "\n",
       "    .dataframe tbody tr th {\n",
       "        vertical-align: top;\n",
       "    }\n",
       "\n",
       "    .dataframe thead th {\n",
       "        text-align: right;\n",
       "    }\n",
       "</style>\n",
       "<table border=\"1\" class=\"dataframe\">\n",
       "  <thead>\n",
       "    <tr style=\"text-align: right;\">\n",
       "      <th></th>\n",
       "      <th>OnTimeProsperPayments</th>\n",
       "      <th>TotalProsperLoans</th>\n",
       "    </tr>\n",
       "  </thead>\n",
       "  <tbody>\n",
       "    <tr>\n",
       "      <th>0</th>\n",
       "      <td>NaN</td>\n",
       "      <td>NaN</td>\n",
       "    </tr>\n",
       "    <tr>\n",
       "      <th>1</th>\n",
       "      <td>NaN</td>\n",
       "      <td>NaN</td>\n",
       "    </tr>\n",
       "    <tr>\n",
       "      <th>2</th>\n",
       "      <td>NaN</td>\n",
       "      <td>NaN</td>\n",
       "    </tr>\n",
       "    <tr>\n",
       "      <th>3</th>\n",
       "      <td>NaN</td>\n",
       "      <td>NaN</td>\n",
       "    </tr>\n",
       "    <tr>\n",
       "      <th>4</th>\n",
       "      <td>11.0</td>\n",
       "      <td>1.0</td>\n",
       "    </tr>\n",
       "  </tbody>\n",
       "</table>\n",
       "</div>"
      ],
      "text/plain": [
       "   OnTimeProsperPayments  TotalProsperLoans\n",
       "0                    NaN                NaN\n",
       "1                    NaN                NaN\n",
       "2                    NaN                NaN\n",
       "3                    NaN                NaN\n",
       "4                   11.0                1.0"
      ]
     },
     "execution_count": 15,
     "metadata": {},
     "output_type": "execute_result"
    }
   ],
   "source": [
    "#let us check some of the entries of two columns which i suspected might be actually important\n",
    "loans.loc[:,['OnTimeProsperPayments','TotalProsperLoans']].head()"
   ]
  },
  {
   "cell_type": "code",
   "execution_count": 16,
   "id": "9170f160",
   "metadata": {},
   "outputs": [
    {
     "data": {
      "text/plain": [
       "0"
      ]
     },
     "execution_count": 16,
     "metadata": {},
     "output_type": "execute_result"
    }
   ],
   "source": [
    "loans.duplicated().sum()"
   ]
  },
  {
   "cell_type": "code",
   "execution_count": 17,
   "id": "e0cef7a4",
   "metadata": {},
   "outputs": [
    {
     "data": {
      "text/plain": [
       "ListingKey                     113066\n",
       "ListingNumber                  113066\n",
       "ListingCreationDate            113064\n",
       "CreditGrade                         8\n",
       "Term                                3\n",
       "                                ...  \n",
       "PercentFunded                     719\n",
       "Recommendations                    17\n",
       "InvestmentFromFriendsCount         14\n",
       "InvestmentFromFriendsAmount       726\n",
       "Investors                         751\n",
       "Length: 81, dtype: int64"
      ]
     },
     "execution_count": 17,
     "metadata": {},
     "output_type": "execute_result"
    }
   ],
   "source": [
    "loans.nunique()"
   ]
  },
  {
   "cell_type": "code",
   "execution_count": 18,
   "id": "c09f0a41",
   "metadata": {},
   "outputs": [
    {
     "data": {
      "text/html": [
       "<div>\n",
       "<style scoped>\n",
       "    .dataframe tbody tr th:only-of-type {\n",
       "        vertical-align: middle;\n",
       "    }\n",
       "\n",
       "    .dataframe tbody tr th {\n",
       "        vertical-align: top;\n",
       "    }\n",
       "\n",
       "    .dataframe thead th {\n",
       "        text-align: right;\n",
       "    }\n",
       "</style>\n",
       "<table border=\"1\" class=\"dataframe\">\n",
       "  <thead>\n",
       "    <tr style=\"text-align: right;\">\n",
       "      <th></th>\n",
       "      <th>ListingNumber</th>\n",
       "      <th>Term</th>\n",
       "      <th>BorrowerAPR</th>\n",
       "      <th>BorrowerRate</th>\n",
       "      <th>LenderYield</th>\n",
       "      <th>EstimatedEffectiveYield</th>\n",
       "      <th>EstimatedLoss</th>\n",
       "      <th>EstimatedReturn</th>\n",
       "      <th>ProsperRating (numeric)</th>\n",
       "      <th>ProsperScore</th>\n",
       "      <th>...</th>\n",
       "      <th>LP_ServiceFees</th>\n",
       "      <th>LP_CollectionFees</th>\n",
       "      <th>LP_GrossPrincipalLoss</th>\n",
       "      <th>LP_NetPrincipalLoss</th>\n",
       "      <th>LP_NonPrincipalRecoverypayments</th>\n",
       "      <th>PercentFunded</th>\n",
       "      <th>Recommendations</th>\n",
       "      <th>InvestmentFromFriendsCount</th>\n",
       "      <th>InvestmentFromFriendsAmount</th>\n",
       "      <th>Investors</th>\n",
       "    </tr>\n",
       "  </thead>\n",
       "  <tbody>\n",
       "    <tr>\n",
       "      <th>count</th>\n",
       "      <td>1.139370e+05</td>\n",
       "      <td>113937.000000</td>\n",
       "      <td>113912.000000</td>\n",
       "      <td>113937.000000</td>\n",
       "      <td>113937.000000</td>\n",
       "      <td>84853.000000</td>\n",
       "      <td>84853.000000</td>\n",
       "      <td>84853.000000</td>\n",
       "      <td>84853.000000</td>\n",
       "      <td>84853.000000</td>\n",
       "      <td>...</td>\n",
       "      <td>113937.000000</td>\n",
       "      <td>113937.000000</td>\n",
       "      <td>113937.000000</td>\n",
       "      <td>113937.000000</td>\n",
       "      <td>113937.000000</td>\n",
       "      <td>113937.000000</td>\n",
       "      <td>113937.000000</td>\n",
       "      <td>113937.000000</td>\n",
       "      <td>113937.000000</td>\n",
       "      <td>113937.000000</td>\n",
       "    </tr>\n",
       "    <tr>\n",
       "      <th>mean</th>\n",
       "      <td>6.278857e+05</td>\n",
       "      <td>40.830248</td>\n",
       "      <td>0.218828</td>\n",
       "      <td>0.192764</td>\n",
       "      <td>0.182701</td>\n",
       "      <td>0.168661</td>\n",
       "      <td>0.080306</td>\n",
       "      <td>0.096068</td>\n",
       "      <td>4.072243</td>\n",
       "      <td>5.950067</td>\n",
       "      <td>...</td>\n",
       "      <td>-54.725641</td>\n",
       "      <td>-14.242698</td>\n",
       "      <td>700.446342</td>\n",
       "      <td>681.420499</td>\n",
       "      <td>25.142686</td>\n",
       "      <td>0.998584</td>\n",
       "      <td>0.048027</td>\n",
       "      <td>0.023460</td>\n",
       "      <td>16.550751</td>\n",
       "      <td>80.475228</td>\n",
       "    </tr>\n",
       "    <tr>\n",
       "      <th>std</th>\n",
       "      <td>3.280762e+05</td>\n",
       "      <td>10.436212</td>\n",
       "      <td>0.080364</td>\n",
       "      <td>0.074818</td>\n",
       "      <td>0.074516</td>\n",
       "      <td>0.068467</td>\n",
       "      <td>0.046764</td>\n",
       "      <td>0.030403</td>\n",
       "      <td>1.673227</td>\n",
       "      <td>2.376501</td>\n",
       "      <td>...</td>\n",
       "      <td>60.675425</td>\n",
       "      <td>109.232758</td>\n",
       "      <td>2388.513831</td>\n",
       "      <td>2357.167068</td>\n",
       "      <td>275.657937</td>\n",
       "      <td>0.017919</td>\n",
       "      <td>0.332353</td>\n",
       "      <td>0.232412</td>\n",
       "      <td>294.545422</td>\n",
       "      <td>103.239020</td>\n",
       "    </tr>\n",
       "    <tr>\n",
       "      <th>min</th>\n",
       "      <td>4.000000e+00</td>\n",
       "      <td>12.000000</td>\n",
       "      <td>0.006530</td>\n",
       "      <td>0.000000</td>\n",
       "      <td>-0.010000</td>\n",
       "      <td>-0.182700</td>\n",
       "      <td>0.004900</td>\n",
       "      <td>-0.182700</td>\n",
       "      <td>1.000000</td>\n",
       "      <td>1.000000</td>\n",
       "      <td>...</td>\n",
       "      <td>-664.870000</td>\n",
       "      <td>-9274.750000</td>\n",
       "      <td>-94.200000</td>\n",
       "      <td>-954.550000</td>\n",
       "      <td>0.000000</td>\n",
       "      <td>0.700000</td>\n",
       "      <td>0.000000</td>\n",
       "      <td>0.000000</td>\n",
       "      <td>0.000000</td>\n",
       "      <td>1.000000</td>\n",
       "    </tr>\n",
       "    <tr>\n",
       "      <th>25%</th>\n",
       "      <td>4.009190e+05</td>\n",
       "      <td>36.000000</td>\n",
       "      <td>0.156290</td>\n",
       "      <td>0.134000</td>\n",
       "      <td>0.124200</td>\n",
       "      <td>0.115670</td>\n",
       "      <td>0.042400</td>\n",
       "      <td>0.074080</td>\n",
       "      <td>3.000000</td>\n",
       "      <td>4.000000</td>\n",
       "      <td>...</td>\n",
       "      <td>-73.180000</td>\n",
       "      <td>0.000000</td>\n",
       "      <td>0.000000</td>\n",
       "      <td>0.000000</td>\n",
       "      <td>0.000000</td>\n",
       "      <td>1.000000</td>\n",
       "      <td>0.000000</td>\n",
       "      <td>0.000000</td>\n",
       "      <td>0.000000</td>\n",
       "      <td>2.000000</td>\n",
       "    </tr>\n",
       "    <tr>\n",
       "      <th>50%</th>\n",
       "      <td>6.005540e+05</td>\n",
       "      <td>36.000000</td>\n",
       "      <td>0.209760</td>\n",
       "      <td>0.184000</td>\n",
       "      <td>0.173000</td>\n",
       "      <td>0.161500</td>\n",
       "      <td>0.072400</td>\n",
       "      <td>0.091700</td>\n",
       "      <td>4.000000</td>\n",
       "      <td>6.000000</td>\n",
       "      <td>...</td>\n",
       "      <td>-34.440000</td>\n",
       "      <td>0.000000</td>\n",
       "      <td>0.000000</td>\n",
       "      <td>0.000000</td>\n",
       "      <td>0.000000</td>\n",
       "      <td>1.000000</td>\n",
       "      <td>0.000000</td>\n",
       "      <td>0.000000</td>\n",
       "      <td>0.000000</td>\n",
       "      <td>44.000000</td>\n",
       "    </tr>\n",
       "    <tr>\n",
       "      <th>75%</th>\n",
       "      <td>8.926340e+05</td>\n",
       "      <td>36.000000</td>\n",
       "      <td>0.283810</td>\n",
       "      <td>0.250000</td>\n",
       "      <td>0.240000</td>\n",
       "      <td>0.224300</td>\n",
       "      <td>0.112000</td>\n",
       "      <td>0.116600</td>\n",
       "      <td>5.000000</td>\n",
       "      <td>8.000000</td>\n",
       "      <td>...</td>\n",
       "      <td>-13.920000</td>\n",
       "      <td>0.000000</td>\n",
       "      <td>0.000000</td>\n",
       "      <td>0.000000</td>\n",
       "      <td>0.000000</td>\n",
       "      <td>1.000000</td>\n",
       "      <td>0.000000</td>\n",
       "      <td>0.000000</td>\n",
       "      <td>0.000000</td>\n",
       "      <td>115.000000</td>\n",
       "    </tr>\n",
       "    <tr>\n",
       "      <th>max</th>\n",
       "      <td>1.255725e+06</td>\n",
       "      <td>60.000000</td>\n",
       "      <td>0.512290</td>\n",
       "      <td>0.497500</td>\n",
       "      <td>0.492500</td>\n",
       "      <td>0.319900</td>\n",
       "      <td>0.366000</td>\n",
       "      <td>0.283700</td>\n",
       "      <td>7.000000</td>\n",
       "      <td>11.000000</td>\n",
       "      <td>...</td>\n",
       "      <td>32.060000</td>\n",
       "      <td>0.000000</td>\n",
       "      <td>25000.000000</td>\n",
       "      <td>25000.000000</td>\n",
       "      <td>21117.900000</td>\n",
       "      <td>1.012500</td>\n",
       "      <td>39.000000</td>\n",
       "      <td>33.000000</td>\n",
       "      <td>25000.000000</td>\n",
       "      <td>1189.000000</td>\n",
       "    </tr>\n",
       "  </tbody>\n",
       "</table>\n",
       "<p>8 rows × 61 columns</p>\n",
       "</div>"
      ],
      "text/plain": [
       "       ListingNumber           Term    BorrowerAPR   BorrowerRate  \\\n",
       "count   1.139370e+05  113937.000000  113912.000000  113937.000000   \n",
       "mean    6.278857e+05      40.830248       0.218828       0.192764   \n",
       "std     3.280762e+05      10.436212       0.080364       0.074818   \n",
       "min     4.000000e+00      12.000000       0.006530       0.000000   \n",
       "25%     4.009190e+05      36.000000       0.156290       0.134000   \n",
       "50%     6.005540e+05      36.000000       0.209760       0.184000   \n",
       "75%     8.926340e+05      36.000000       0.283810       0.250000   \n",
       "max     1.255725e+06      60.000000       0.512290       0.497500   \n",
       "\n",
       "         LenderYield  EstimatedEffectiveYield  EstimatedLoss  EstimatedReturn  \\\n",
       "count  113937.000000             84853.000000   84853.000000     84853.000000   \n",
       "mean        0.182701                 0.168661       0.080306         0.096068   \n",
       "std         0.074516                 0.068467       0.046764         0.030403   \n",
       "min        -0.010000                -0.182700       0.004900        -0.182700   \n",
       "25%         0.124200                 0.115670       0.042400         0.074080   \n",
       "50%         0.173000                 0.161500       0.072400         0.091700   \n",
       "75%         0.240000                 0.224300       0.112000         0.116600   \n",
       "max         0.492500                 0.319900       0.366000         0.283700   \n",
       "\n",
       "       ProsperRating (numeric)  ProsperScore  ...  LP_ServiceFees  \\\n",
       "count             84853.000000  84853.000000  ...   113937.000000   \n",
       "mean                  4.072243      5.950067  ...      -54.725641   \n",
       "std                   1.673227      2.376501  ...       60.675425   \n",
       "min                   1.000000      1.000000  ...     -664.870000   \n",
       "25%                   3.000000      4.000000  ...      -73.180000   \n",
       "50%                   4.000000      6.000000  ...      -34.440000   \n",
       "75%                   5.000000      8.000000  ...      -13.920000   \n",
       "max                   7.000000     11.000000  ...       32.060000   \n",
       "\n",
       "       LP_CollectionFees  LP_GrossPrincipalLoss  LP_NetPrincipalLoss  \\\n",
       "count      113937.000000          113937.000000        113937.000000   \n",
       "mean          -14.242698             700.446342           681.420499   \n",
       "std           109.232758            2388.513831          2357.167068   \n",
       "min         -9274.750000             -94.200000          -954.550000   \n",
       "25%             0.000000               0.000000             0.000000   \n",
       "50%             0.000000               0.000000             0.000000   \n",
       "75%             0.000000               0.000000             0.000000   \n",
       "max             0.000000           25000.000000         25000.000000   \n",
       "\n",
       "       LP_NonPrincipalRecoverypayments  PercentFunded  Recommendations  \\\n",
       "count                    113937.000000  113937.000000    113937.000000   \n",
       "mean                         25.142686       0.998584         0.048027   \n",
       "std                         275.657937       0.017919         0.332353   \n",
       "min                           0.000000       0.700000         0.000000   \n",
       "25%                           0.000000       1.000000         0.000000   \n",
       "50%                           0.000000       1.000000         0.000000   \n",
       "75%                           0.000000       1.000000         0.000000   \n",
       "max                       21117.900000       1.012500        39.000000   \n",
       "\n",
       "       InvestmentFromFriendsCount  InvestmentFromFriendsAmount      Investors  \n",
       "count               113937.000000                113937.000000  113937.000000  \n",
       "mean                     0.023460                    16.550751      80.475228  \n",
       "std                      0.232412                   294.545422     103.239020  \n",
       "min                      0.000000                     0.000000       1.000000  \n",
       "25%                      0.000000                     0.000000       2.000000  \n",
       "50%                      0.000000                     0.000000      44.000000  \n",
       "75%                      0.000000                     0.000000     115.000000  \n",
       "max                     33.000000                 25000.000000    1189.000000  \n",
       "\n",
       "[8 rows x 61 columns]"
      ]
     },
     "execution_count": 18,
     "metadata": {},
     "output_type": "execute_result"
    }
   ],
   "source": [
    "loans.describe()"
   ]
  },
  {
   "cell_type": "markdown",
   "id": "353f581f",
   "metadata": {},
   "source": [
    "### The Strycture of The dataset\n",
    "- This dataset has 113937 observations and 81 features. \n",
    "- Some data are obviously categorical/qualitative while some are quantitative\n",
    "- There are some data quality issuses in this dataset like missing values, non descriptive features, irrelevant variables,\n",
    "- wrong data types and even outliers which may affect my modelling as i will be building a model with the cleaned data later on.\n",
    "- From the summary statistics , i can see that some of the numerical features are right skewed while some are left skewed, \n",
    "- I could also see that some features have a very large deviation from the standard.\n",
    " \n",
    "### Main Features of interest of interest in my dataset\n",
    "- Am interested in predicting If a Loan borrower will be able to pay back or not\n",
    "- Am also interested in looking into the business aspect of this data by predicting if a loan borrower should still be borrowed money or not"
   ]
  },
  {
   "cell_type": "code",
   "execution_count": 19,
   "id": "b008cbe0",
   "metadata": {},
   "outputs": [
    {
     "data": {
      "text/plain": [
       "0.0     104941\n",
       "1.0       1255\n",
       "2.0         96\n",
       "3.0         28\n",
       "4.0         10\n",
       "7.0          2\n",
       "20.0         1\n",
       "Name: PublicRecordsLast12Months, dtype: int64"
      ]
     },
     "execution_count": 19,
     "metadata": {},
     "output_type": "execute_result"
    }
   ],
   "source": [
    "loans['PublicRecordsLast12Months'].value_counts()"
   ]
  },
  {
   "cell_type": "markdown",
   "id": "4adeac8a",
   "metadata": {},
   "source": [
    "## Data Quality Issues\n",
    "##### prosperLoanData \n",
    "- Missing values in some features\n",
    "- Some features have wrong Data types\n",
    "- Some features are unnecessary and needs to be removed\n",
    "- Some features are not well descriptive \n"
   ]
  },
  {
   "cell_type": "markdown",
   "id": "a5c5a6b6",
   "metadata": {},
   "source": [
    "### Clean\n",
    "- Use proper imputation methods to fill the missing values\n",
    "- Remove or drop unnecessary features that will not be used for analysis\n",
    "- Convert data types correctly\n",
    "- Properly describe or rename some very important features"
   ]
  },
  {
   "cell_type": "markdown",
   "id": "0101b35c",
   "metadata": {},
   "source": [
    "### Define\n",
    "- Remove or drop  Columns that will not be used for analysis"
   ]
  },
  {
   "cell_type": "markdown",
   "id": "72b1413b",
   "metadata": {},
   "source": [
    "### Code"
   ]
  },
  {
   "cell_type": "code",
   "execution_count": 20,
   "id": "f1f71f9c",
   "metadata": {},
   "outputs": [],
   "source": [
    "#create a list for the columns to be dropped\n",
    "to_be_dropped_loans=['ListingKey', 'ListingNumber','CreditGrade',\n",
    "         'ClosedDate', 'BorrowerAPR', \n",
    "       'LenderYield', 'EstimatedEffectiveYield', 'EstimatedLoss',\n",
    "       'EstimatedReturn', 'ProsperRating (numeric)', \n",
    "       'ProsperScore',  \n",
    "         'EmploymentStatusDuration',\n",
    "        'CurrentlyInGroup', 'GroupKey',\n",
    "       'DateCreditPulled', 'CreditScoreRangeLower', 'CreditScoreRangeUpper',\n",
    "       'FirstRecordedCreditLine', 'CurrentCreditLines', 'OpenCreditLines',\n",
    "       'TotalCreditLinespast7years', 'OpenRevolvingAccounts',\n",
    "       'OpenRevolvingMonthlyPayment', 'InquiriesLast6Months', 'TotalInquiries',\n",
    "       'CurrentDelinquencies', 'AmountDelinquent', \n",
    "       'PublicRecordsLast10Years', 'PublicRecordsLast12Months',\n",
    "       'RevolvingCreditBalance', 'BankcardUtilization',\n",
    "       'AvailableBankcardCredit', 'TotalTrades',\n",
    "       'TradesNeverDelinquent (percentage)', 'TradesOpenedLast6Months',\n",
    "       'DebtToIncomeRatio', 'IncomeRange', 'IncomeVerifiable',\n",
    "        'TotalProsperLoans',\n",
    "       'TotalProsperPaymentsBilled', \n",
    "       'ProsperPaymentsLessThanOneMonthLate',\n",
    "       'ProsperPaymentsOneMonthPlusLate', 'ProsperPrincipalBorrowed',\n",
    "       'ProsperPrincipalOutstanding', 'ScorexChangeAtTimeOfListing',\n",
    "       'LoanCurrentDaysDelinquent', 'LoanFirstDefaultedCycleNumber',\n",
    "       'LoanMonthsSinceOrigination', 'LoanNumber', \n",
    "       'LoanOriginationDate', 'LoanOriginationQuarter', 'MemberKey',\n",
    "       'MonthlyLoanPayment', 'LP_CustomerPayments',\n",
    "       'LP_CustomerPrincipalPayments', 'LP_InterestandFees', 'LP_ServiceFees',\n",
    "       'LP_CollectionFees', 'LP_GrossPrincipalLoss', 'LP_NetPrincipalLoss',\n",
    "       'LP_NonPrincipalRecoverypayments', 'PercentFunded', 'Recommendations',\n",
    "       'InvestmentFromFriendsCount', 'InvestmentFromFriendsAmount',\n",
    "       'Investors','BorrowerState']\n",
    "#use a drop function to drop the columns\n",
    "loans.drop(to_be_dropped_loans, axis=1, inplace=True)\n"
   ]
  },
  {
   "cell_type": "markdown",
   "id": "3d665b68",
   "metadata": {},
   "source": [
    "### Test"
   ]
  },
  {
   "cell_type": "code",
   "execution_count": 21,
   "id": "2fa0855d",
   "metadata": {},
   "outputs": [
    {
     "data": {
      "text/html": [
       "<div>\n",
       "<style scoped>\n",
       "    .dataframe tbody tr th:only-of-type {\n",
       "        vertical-align: middle;\n",
       "    }\n",
       "\n",
       "    .dataframe tbody tr th {\n",
       "        vertical-align: top;\n",
       "    }\n",
       "\n",
       "    .dataframe thead th {\n",
       "        text-align: right;\n",
       "    }\n",
       "</style>\n",
       "<table border=\"1\" class=\"dataframe\">\n",
       "  <thead>\n",
       "    <tr style=\"text-align: right;\">\n",
       "      <th></th>\n",
       "      <th>ListingCreationDate</th>\n",
       "      <th>Term</th>\n",
       "      <th>LoanStatus</th>\n",
       "      <th>BorrowerRate</th>\n",
       "      <th>ProsperRating (Alpha)</th>\n",
       "      <th>ListingCategory (numeric)</th>\n",
       "      <th>Occupation</th>\n",
       "      <th>EmploymentStatus</th>\n",
       "      <th>IsBorrowerHomeowner</th>\n",
       "      <th>DelinquenciesLast7Years</th>\n",
       "      <th>StatedMonthlyIncome</th>\n",
       "      <th>LoanKey</th>\n",
       "      <th>OnTimeProsperPayments</th>\n",
       "      <th>LoanOriginalAmount</th>\n",
       "    </tr>\n",
       "  </thead>\n",
       "  <tbody>\n",
       "    <tr>\n",
       "      <th>0</th>\n",
       "      <td>2007-08-26 19:09:29.263000000</td>\n",
       "      <td>36</td>\n",
       "      <td>Completed</td>\n",
       "      <td>0.1580</td>\n",
       "      <td>NaN</td>\n",
       "      <td>0</td>\n",
       "      <td>Other</td>\n",
       "      <td>Self-employed</td>\n",
       "      <td>True</td>\n",
       "      <td>4.0</td>\n",
       "      <td>3083.333333</td>\n",
       "      <td>E33A3400205839220442E84</td>\n",
       "      <td>NaN</td>\n",
       "      <td>9425</td>\n",
       "    </tr>\n",
       "    <tr>\n",
       "      <th>1</th>\n",
       "      <td>2014-02-27 08:28:07.900000000</td>\n",
       "      <td>36</td>\n",
       "      <td>Current</td>\n",
       "      <td>0.0920</td>\n",
       "      <td>A</td>\n",
       "      <td>2</td>\n",
       "      <td>Professional</td>\n",
       "      <td>Employed</td>\n",
       "      <td>False</td>\n",
       "      <td>0.0</td>\n",
       "      <td>6125.000000</td>\n",
       "      <td>9E3B37071505919926B1D82</td>\n",
       "      <td>NaN</td>\n",
       "      <td>10000</td>\n",
       "    </tr>\n",
       "    <tr>\n",
       "      <th>2</th>\n",
       "      <td>2007-01-05 15:00:47.090000000</td>\n",
       "      <td>36</td>\n",
       "      <td>Completed</td>\n",
       "      <td>0.2750</td>\n",
       "      <td>NaN</td>\n",
       "      <td>0</td>\n",
       "      <td>Other</td>\n",
       "      <td>Not available</td>\n",
       "      <td>False</td>\n",
       "      <td>0.0</td>\n",
       "      <td>2083.333333</td>\n",
       "      <td>6954337960046817851BCB2</td>\n",
       "      <td>NaN</td>\n",
       "      <td>3001</td>\n",
       "    </tr>\n",
       "    <tr>\n",
       "      <th>3</th>\n",
       "      <td>2012-10-22 11:02:35.010000000</td>\n",
       "      <td>36</td>\n",
       "      <td>Current</td>\n",
       "      <td>0.0974</td>\n",
       "      <td>A</td>\n",
       "      <td>16</td>\n",
       "      <td>Skilled Labor</td>\n",
       "      <td>Employed</td>\n",
       "      <td>True</td>\n",
       "      <td>14.0</td>\n",
       "      <td>2875.000000</td>\n",
       "      <td>A0393664465886295619C51</td>\n",
       "      <td>NaN</td>\n",
       "      <td>10000</td>\n",
       "    </tr>\n",
       "    <tr>\n",
       "      <th>4</th>\n",
       "      <td>2013-09-14 18:38:39.097000000</td>\n",
       "      <td>36</td>\n",
       "      <td>Current</td>\n",
       "      <td>0.2085</td>\n",
       "      <td>D</td>\n",
       "      <td>2</td>\n",
       "      <td>Executive</td>\n",
       "      <td>Employed</td>\n",
       "      <td>True</td>\n",
       "      <td>0.0</td>\n",
       "      <td>9583.333333</td>\n",
       "      <td>A180369302188889200689E</td>\n",
       "      <td>11.0</td>\n",
       "      <td>15000</td>\n",
       "    </tr>\n",
       "  </tbody>\n",
       "</table>\n",
       "</div>"
      ],
      "text/plain": [
       "             ListingCreationDate  Term LoanStatus  BorrowerRate  \\\n",
       "0  2007-08-26 19:09:29.263000000    36  Completed        0.1580   \n",
       "1  2014-02-27 08:28:07.900000000    36    Current        0.0920   \n",
       "2  2007-01-05 15:00:47.090000000    36  Completed        0.2750   \n",
       "3  2012-10-22 11:02:35.010000000    36    Current        0.0974   \n",
       "4  2013-09-14 18:38:39.097000000    36    Current        0.2085   \n",
       "\n",
       "  ProsperRating (Alpha)  ListingCategory (numeric)     Occupation  \\\n",
       "0                   NaN                          0          Other   \n",
       "1                     A                          2   Professional   \n",
       "2                   NaN                          0          Other   \n",
       "3                     A                         16  Skilled Labor   \n",
       "4                     D                          2      Executive   \n",
       "\n",
       "  EmploymentStatus  IsBorrowerHomeowner  DelinquenciesLast7Years  \\\n",
       "0    Self-employed                 True                      4.0   \n",
       "1         Employed                False                      0.0   \n",
       "2    Not available                False                      0.0   \n",
       "3         Employed                 True                     14.0   \n",
       "4         Employed                 True                      0.0   \n",
       "\n",
       "   StatedMonthlyIncome                  LoanKey  OnTimeProsperPayments  \\\n",
       "0          3083.333333  E33A3400205839220442E84                    NaN   \n",
       "1          6125.000000  9E3B37071505919926B1D82                    NaN   \n",
       "2          2083.333333  6954337960046817851BCB2                    NaN   \n",
       "3          2875.000000  A0393664465886295619C51                    NaN   \n",
       "4          9583.333333  A180369302188889200689E                   11.0   \n",
       "\n",
       "   LoanOriginalAmount  \n",
       "0                9425  \n",
       "1               10000  \n",
       "2                3001  \n",
       "3               10000  \n",
       "4               15000  "
      ]
     },
     "execution_count": 21,
     "metadata": {},
     "output_type": "execute_result"
    }
   ],
   "source": [
    "#check the first 5 rows\n",
    "loans.head()"
   ]
  },
  {
   "cell_type": "code",
   "execution_count": 22,
   "id": "d73d946e",
   "metadata": {},
   "outputs": [
    {
     "data": {
      "text/plain": [
       "Index(['ListingCreationDate', 'Term', 'LoanStatus', 'BorrowerRate',\n",
       "       'ProsperRating (Alpha)', 'ListingCategory (numeric)', 'Occupation',\n",
       "       'EmploymentStatus', 'IsBorrowerHomeowner', 'DelinquenciesLast7Years',\n",
       "       'StatedMonthlyIncome', 'LoanKey', 'OnTimeProsperPayments',\n",
       "       'LoanOriginalAmount'],\n",
       "      dtype='object')"
      ]
     },
     "execution_count": 22,
     "metadata": {},
     "output_type": "execute_result"
    }
   ],
   "source": [
    "#see the columns remaining columns\n",
    "loans.columns"
   ]
  },
  {
   "cell_type": "code",
   "execution_count": 23,
   "id": "f5f3a3fe",
   "metadata": {},
   "outputs": [
    {
     "name": "stdout",
     "output_type": "stream",
     "text": [
      "<class 'pandas.core.frame.DataFrame'>\n",
      "RangeIndex: 113937 entries, 0 to 113936\n",
      "Data columns (total 14 columns):\n",
      " #   Column                     Non-Null Count   Dtype  \n",
      "---  ------                     --------------   -----  \n",
      " 0   ListingCreationDate        113937 non-null  object \n",
      " 1   Term                       113937 non-null  int64  \n",
      " 2   LoanStatus                 113937 non-null  object \n",
      " 3   BorrowerRate               113937 non-null  float64\n",
      " 4   ProsperRating (Alpha)      84853 non-null   object \n",
      " 5   ListingCategory (numeric)  113937 non-null  int64  \n",
      " 6   Occupation                 110349 non-null  object \n",
      " 7   EmploymentStatus           111682 non-null  object \n",
      " 8   IsBorrowerHomeowner        113937 non-null  bool   \n",
      " 9   DelinquenciesLast7Years    112947 non-null  float64\n",
      " 10  StatedMonthlyIncome        113937 non-null  float64\n",
      " 11  LoanKey                    113937 non-null  object \n",
      " 12  OnTimeProsperPayments      22085 non-null   float64\n",
      " 13  LoanOriginalAmount         113937 non-null  int64  \n",
      "dtypes: bool(1), float64(4), int64(3), object(6)\n",
      "memory usage: 11.4+ MB\n"
     ]
    }
   ],
   "source": [
    "#re inspect the features\n",
    "loans.info()"
   ]
  },
  {
   "cell_type": "code",
   "execution_count": 24,
   "id": "89448c8f",
   "metadata": {},
   "outputs": [
    {
     "data": {
      "text/plain": [
       "ListingCreationDate              0\n",
       "Term                             0\n",
       "LoanStatus                       0\n",
       "BorrowerRate                     0\n",
       "ProsperRating (Alpha)        29084\n",
       "ListingCategory (numeric)        0\n",
       "Occupation                    3588\n",
       "EmploymentStatus              2255\n",
       "IsBorrowerHomeowner              0\n",
       "DelinquenciesLast7Years        990\n",
       "StatedMonthlyIncome              0\n",
       "LoanKey                          0\n",
       "OnTimeProsperPayments        91852\n",
       "LoanOriginalAmount               0\n",
       "dtype: int64"
      ]
     },
     "execution_count": 24,
     "metadata": {},
     "output_type": "execute_result"
    }
   ],
   "source": [
    "#check the missing values again\n",
    "loans.isnull().sum()"
   ]
  },
  {
   "cell_type": "code",
   "execution_count": 25,
   "id": "db75400b",
   "metadata": {},
   "outputs": [
    {
     "name": "stdout",
     "output_type": "stream",
     "text": [
      "Occupation                  3588\n",
      "EmploymentStatus            2255\n",
      "DelinquenciesLast7Years      990\n",
      "OnTimeProsperPayments      91852\n",
      "dtype: int64\n"
     ]
    }
   ],
   "source": [
    "#drop the features that do not have missing values\n",
    "# so as to plot a bar chart of missing values\n",
    "loans_drop_Not_missing=loans.drop(columns=['IsBorrowerHomeowner','ListingCreationDate','Term','LoanStatus','BorrowerRate',\n",
    "                                         'ListingCategory (numeric)','StatedMonthlyIncome',\n",
    "                                     'LoanKey','LoanOriginalAmount','ProsperRating (Alpha)'],axis=1).isna().sum()\n",
    "print(loans_drop_Not_missing) "
   ]
  },
  {
   "cell_type": "code",
   "execution_count": 26,
   "id": "6b1f19f0",
   "metadata": {},
   "outputs": [
    {
     "name": "stderr",
     "output_type": "stream",
     "text": [
      "C:\\Users\\512GB\\anaconda3\\lib\\site-packages\\seaborn\\_decorators.py:36: FutureWarning: Pass the following variables as keyword args: x, y. From version 0.12, the only valid positional argument will be `data`, and passing other arguments without an explicit keyword will result in an error or misinterpretation.\n",
      "  warnings.warn(\n"
     ]
    },
    {
     "data": {
      "image/png": "[encoded data removed]",
      "text/plain": [
       "<Figure size 640x480 with 1 Axes>"
      ]
     },
     "metadata": {},
     "output_type": "display_data"
    }
   ],
   "source": [
    "\n",
    "#Plot a graph of the missing values\n",
    "sns.barplot(loans_drop_Not_missing.index.values, loans_drop_Not_missing)\n",
    "#get the current tick locations and labels\n",
    "plt.xticks(rotation=90)\n",
    "#logic to print value on each bar\n",
    "for i in range(loans_drop_Not_missing.shape[0]):\n",
    "    count=loans_drop_Not_missing[i]\n",
    "    \n",
    "    plt.text(i, count+300, count, ha='center', va='top')"
   ]
  },
  {
   "cell_type": "code",
   "execution_count": 27,
   "id": "e461f7ef",
   "metadata": {},
   "outputs": [
    {
     "data": {
      "text/plain": [
       "ListingCreationDate           object\n",
       "Term                           int64\n",
       "LoanStatus                    object\n",
       "BorrowerRate                 float64\n",
       "ProsperRating (Alpha)         object\n",
       "ListingCategory (numeric)      int64\n",
       "Occupation                    object\n",
       "EmploymentStatus              object\n",
       "IsBorrowerHomeowner             bool\n",
       "DelinquenciesLast7Years      float64\n",
       "StatedMonthlyIncome          float64\n",
       "LoanKey                       object\n",
       "OnTimeProsperPayments        float64\n",
       "LoanOriginalAmount             int64\n",
       "dtype: object"
      ]
     },
     "execution_count": 27,
     "metadata": {},
     "output_type": "execute_result"
    }
   ],
   "source": [
    "#check the data type of the features again\n",
    "loans.dtypes"
   ]
  },
  {
   "cell_type": "code",
   "execution_count": 28,
   "id": "f5295b9a",
   "metadata": {},
   "outputs": [
    {
     "data": {
      "text/html": [
       "<div>\n",
       "<style scoped>\n",
       "    .dataframe tbody tr th:only-of-type {\n",
       "        vertical-align: middle;\n",
       "    }\n",
       "\n",
       "    .dataframe tbody tr th {\n",
       "        vertical-align: top;\n",
       "    }\n",
       "\n",
       "    .dataframe thead th {\n",
       "        text-align: right;\n",
       "    }\n",
       "</style>\n",
       "<table border=\"1\" class=\"dataframe\">\n",
       "  <thead>\n",
       "    <tr style=\"text-align: right;\">\n",
       "      <th></th>\n",
       "      <th>ListingCreationDate</th>\n",
       "      <th>Term</th>\n",
       "      <th>LoanStatus</th>\n",
       "      <th>BorrowerRate</th>\n",
       "      <th>ProsperRating (Alpha)</th>\n",
       "      <th>ListingCategory (numeric)</th>\n",
       "      <th>Occupation</th>\n",
       "      <th>EmploymentStatus</th>\n",
       "      <th>IsBorrowerHomeowner</th>\n",
       "      <th>DelinquenciesLast7Years</th>\n",
       "      <th>StatedMonthlyIncome</th>\n",
       "      <th>LoanKey</th>\n",
       "      <th>OnTimeProsperPayments</th>\n",
       "      <th>LoanOriginalAmount</th>\n",
       "    </tr>\n",
       "  </thead>\n",
       "  <tbody>\n",
       "    <tr>\n",
       "      <th>0</th>\n",
       "      <td>2007-08-26 19:09:29.263000000</td>\n",
       "      <td>36</td>\n",
       "      <td>Completed</td>\n",
       "      <td>0.1580</td>\n",
       "      <td>NaN</td>\n",
       "      <td>0</td>\n",
       "      <td>Other</td>\n",
       "      <td>Self-employed</td>\n",
       "      <td>True</td>\n",
       "      <td>4.0</td>\n",
       "      <td>3083.333333</td>\n",
       "      <td>E33A3400205839220442E84</td>\n",
       "      <td>NaN</td>\n",
       "      <td>9425</td>\n",
       "    </tr>\n",
       "    <tr>\n",
       "      <th>1</th>\n",
       "      <td>2014-02-27 08:28:07.900000000</td>\n",
       "      <td>36</td>\n",
       "      <td>Current</td>\n",
       "      <td>0.0920</td>\n",
       "      <td>A</td>\n",
       "      <td>2</td>\n",
       "      <td>Professional</td>\n",
       "      <td>Employed</td>\n",
       "      <td>False</td>\n",
       "      <td>0.0</td>\n",
       "      <td>6125.000000</td>\n",
       "      <td>9E3B37071505919926B1D82</td>\n",
       "      <td>NaN</td>\n",
       "      <td>10000</td>\n",
       "    </tr>\n",
       "    <tr>\n",
       "      <th>2</th>\n",
       "      <td>2007-01-05 15:00:47.090000000</td>\n",
       "      <td>36</td>\n",
       "      <td>Completed</td>\n",
       "      <td>0.2750</td>\n",
       "      <td>NaN</td>\n",
       "      <td>0</td>\n",
       "      <td>Other</td>\n",
       "      <td>Not available</td>\n",
       "      <td>False</td>\n",
       "      <td>0.0</td>\n",
       "      <td>2083.333333</td>\n",
       "      <td>6954337960046817851BCB2</td>\n",
       "      <td>NaN</td>\n",
       "      <td>3001</td>\n",
       "    </tr>\n",
       "    <tr>\n",
       "      <th>3</th>\n",
       "      <td>2012-10-22 11:02:35.010000000</td>\n",
       "      <td>36</td>\n",
       "      <td>Current</td>\n",
       "      <td>0.0974</td>\n",
       "      <td>A</td>\n",
       "      <td>16</td>\n",
       "      <td>Skilled Labor</td>\n",
       "      <td>Employed</td>\n",
       "      <td>True</td>\n",
       "      <td>14.0</td>\n",
       "      <td>2875.000000</td>\n",
       "      <td>A0393664465886295619C51</td>\n",
       "      <td>NaN</td>\n",
       "      <td>10000</td>\n",
       "    </tr>\n",
       "    <tr>\n",
       "      <th>4</th>\n",
       "      <td>2013-09-14 18:38:39.097000000</td>\n",
       "      <td>36</td>\n",
       "      <td>Current</td>\n",
       "      <td>0.2085</td>\n",
       "      <td>D</td>\n",
       "      <td>2</td>\n",
       "      <td>Executive</td>\n",
       "      <td>Employed</td>\n",
       "      <td>True</td>\n",
       "      <td>0.0</td>\n",
       "      <td>9583.333333</td>\n",
       "      <td>A180369302188889200689E</td>\n",
       "      <td>11.0</td>\n",
       "      <td>15000</td>\n",
       "    </tr>\n",
       "  </tbody>\n",
       "</table>\n",
       "</div>"
      ],
      "text/plain": [
       "             ListingCreationDate  Term LoanStatus  BorrowerRate  \\\n",
       "0  2007-08-26 19:09:29.263000000    36  Completed        0.1580   \n",
       "1  2014-02-27 08:28:07.900000000    36    Current        0.0920   \n",
       "2  2007-01-05 15:00:47.090000000    36  Completed        0.2750   \n",
       "3  2012-10-22 11:02:35.010000000    36    Current        0.0974   \n",
       "4  2013-09-14 18:38:39.097000000    36    Current        0.2085   \n",
       "\n",
       "  ProsperRating (Alpha)  ListingCategory (numeric)     Occupation  \\\n",
       "0                   NaN                          0          Other   \n",
       "1                     A                          2   Professional   \n",
       "2                   NaN                          0          Other   \n",
       "3                     A                         16  Skilled Labor   \n",
       "4                     D                          2      Executive   \n",
       "\n",
       "  EmploymentStatus  IsBorrowerHomeowner  DelinquenciesLast7Years  \\\n",
       "0    Self-employed                 True                      4.0   \n",
       "1         Employed                False                      0.0   \n",
       "2    Not available                False                      0.0   \n",
       "3         Employed                 True                     14.0   \n",
       "4         Employed                 True                      0.0   \n",
       "\n",
       "   StatedMonthlyIncome                  LoanKey  OnTimeProsperPayments  \\\n",
       "0          3083.333333  E33A3400205839220442E84                    NaN   \n",
       "1          6125.000000  9E3B37071505919926B1D82                    NaN   \n",
       "2          2083.333333  6954337960046817851BCB2                    NaN   \n",
       "3          2875.000000  A0393664465886295619C51                    NaN   \n",
       "4          9583.333333  A180369302188889200689E                   11.0   \n",
       "\n",
       "   LoanOriginalAmount  \n",
       "0                9425  \n",
       "1               10000  \n",
       "2                3001  \n",
       "3               10000  \n",
       "4               15000  "
      ]
     },
     "execution_count": 28,
     "metadata": {},
     "output_type": "execute_result"
    }
   ],
   "source": [
    "loans.head()"
   ]
  },
  {
   "cell_type": "markdown",
   "id": "3e7c1b79",
   "metadata": {},
   "source": [
    "### Define\n",
    "- Convert the data types accordingly"
   ]
  },
  {
   "cell_type": "markdown",
   "id": "5da00ff3",
   "metadata": {},
   "source": [
    "### Code"
   ]
  },
  {
   "cell_type": "code",
   "execution_count": 29,
   "id": "2d6527c4",
   "metadata": {},
   "outputs": [],
   "source": [
    "#convert the data type\n",
    "loans['ListingCreationDate']=loans['ListingCreationDate'].astype('datetime64[ns]')"
   ]
  },
  {
   "cell_type": "markdown",
   "id": "0976efb9",
   "metadata": {},
   "source": [
    "### Test"
   ]
  },
  {
   "cell_type": "code",
   "execution_count": 30,
   "id": "5c30d503",
   "metadata": {},
   "outputs": [
    {
     "data": {
      "text/plain": [
       "ListingCreationDate          datetime64[ns]\n",
       "Term                                  int64\n",
       "LoanStatus                           object\n",
       "BorrowerRate                        float64\n",
       "ProsperRating (Alpha)                object\n",
       "ListingCategory (numeric)             int64\n",
       "Occupation                           object\n",
       "EmploymentStatus                     object\n",
       "IsBorrowerHomeowner                    bool\n",
       "DelinquenciesLast7Years             float64\n",
       "StatedMonthlyIncome                 float64\n",
       "LoanKey                              object\n",
       "OnTimeProsperPayments               float64\n",
       "LoanOriginalAmount                    int64\n",
       "dtype: object"
      ]
     },
     "execution_count": 30,
     "metadata": {},
     "output_type": "execute_result"
    }
   ],
   "source": [
    "#comfirm the data type has been changed\n",
    "loans.dtypes"
   ]
  },
  {
   "cell_type": "markdown",
   "id": "b8e8280a",
   "metadata": {},
   "source": [
    "### Define\n",
    "- Fill in Missing values appropriately in:\n",
    "- DelinquenciesLast7Years\n",
    "- OnTimeProsperPayments"
   ]
  },
  {
   "cell_type": "markdown",
   "id": "b22d26a9",
   "metadata": {},
   "source": [
    "### Code"
   ]
  },
  {
   "cell_type": "code",
   "execution_count": 31,
   "id": "8831e5c9",
   "metadata": {},
   "outputs": [
    {
     "data": {
      "text/html": [
       "<div>\n",
       "<style scoped>\n",
       "    .dataframe tbody tr th:only-of-type {\n",
       "        vertical-align: middle;\n",
       "    }\n",
       "\n",
       "    .dataframe tbody tr th {\n",
       "        vertical-align: top;\n",
       "    }\n",
       "\n",
       "    .dataframe thead th {\n",
       "        text-align: right;\n",
       "    }\n",
       "</style>\n",
       "<table border=\"1\" class=\"dataframe\">\n",
       "  <thead>\n",
       "    <tr style=\"text-align: right;\">\n",
       "      <th></th>\n",
       "      <th>ListingCreationDate</th>\n",
       "      <th>Term</th>\n",
       "      <th>LoanStatus</th>\n",
       "      <th>BorrowerRate</th>\n",
       "      <th>ProsperRating (Alpha)</th>\n",
       "      <th>ListingCategory (numeric)</th>\n",
       "      <th>Occupation</th>\n",
       "      <th>EmploymentStatus</th>\n",
       "      <th>IsBorrowerHomeowner</th>\n",
       "      <th>DelinquenciesLast7Years</th>\n",
       "      <th>StatedMonthlyIncome</th>\n",
       "      <th>LoanKey</th>\n",
       "      <th>OnTimeProsperPayments</th>\n",
       "      <th>LoanOriginalAmount</th>\n",
       "    </tr>\n",
       "  </thead>\n",
       "  <tbody>\n",
       "    <tr>\n",
       "      <th>0</th>\n",
       "      <td>2007-08-26 19:09:29.263</td>\n",
       "      <td>36</td>\n",
       "      <td>Completed</td>\n",
       "      <td>0.1580</td>\n",
       "      <td>NaN</td>\n",
       "      <td>0</td>\n",
       "      <td>Other</td>\n",
       "      <td>Self-employed</td>\n",
       "      <td>True</td>\n",
       "      <td>4.0</td>\n",
       "      <td>3083.333333</td>\n",
       "      <td>E33A3400205839220442E84</td>\n",
       "      <td>NaN</td>\n",
       "      <td>9425</td>\n",
       "    </tr>\n",
       "    <tr>\n",
       "      <th>1</th>\n",
       "      <td>2014-02-27 08:28:07.900</td>\n",
       "      <td>36</td>\n",
       "      <td>Current</td>\n",
       "      <td>0.0920</td>\n",
       "      <td>A</td>\n",
       "      <td>2</td>\n",
       "      <td>Professional</td>\n",
       "      <td>Employed</td>\n",
       "      <td>False</td>\n",
       "      <td>0.0</td>\n",
       "      <td>6125.000000</td>\n",
       "      <td>9E3B37071505919926B1D82</td>\n",
       "      <td>NaN</td>\n",
       "      <td>10000</td>\n",
       "    </tr>\n",
       "    <tr>\n",
       "      <th>2</th>\n",
       "      <td>2007-01-05 15:00:47.090</td>\n",
       "      <td>36</td>\n",
       "      <td>Completed</td>\n",
       "      <td>0.2750</td>\n",
       "      <td>NaN</td>\n",
       "      <td>0</td>\n",
       "      <td>Other</td>\n",
       "      <td>Not available</td>\n",
       "      <td>False</td>\n",
       "      <td>0.0</td>\n",
       "      <td>2083.333333</td>\n",
       "      <td>6954337960046817851BCB2</td>\n",
       "      <td>NaN</td>\n",
       "      <td>3001</td>\n",
       "    </tr>\n",
       "    <tr>\n",
       "      <th>3</th>\n",
       "      <td>2012-10-22 11:02:35.010</td>\n",
       "      <td>36</td>\n",
       "      <td>Current</td>\n",
       "      <td>0.0974</td>\n",
       "      <td>A</td>\n",
       "      <td>16</td>\n",
       "      <td>Skilled Labor</td>\n",
       "      <td>Employed</td>\n",
       "      <td>True</td>\n",
       "      <td>14.0</td>\n",
       "      <td>2875.000000</td>\n",
       "      <td>A0393664465886295619C51</td>\n",
       "      <td>NaN</td>\n",
       "      <td>10000</td>\n",
       "    </tr>\n",
       "    <tr>\n",
       "      <th>4</th>\n",
       "      <td>2013-09-14 18:38:39.097</td>\n",
       "      <td>36</td>\n",
       "      <td>Current</td>\n",
       "      <td>0.2085</td>\n",
       "      <td>D</td>\n",
       "      <td>2</td>\n",
       "      <td>Executive</td>\n",
       "      <td>Employed</td>\n",
       "      <td>True</td>\n",
       "      <td>0.0</td>\n",
       "      <td>9583.333333</td>\n",
       "      <td>A180369302188889200689E</td>\n",
       "      <td>11.0</td>\n",
       "      <td>15000</td>\n",
       "    </tr>\n",
       "  </tbody>\n",
       "</table>\n",
       "</div>"
      ],
      "text/plain": [
       "      ListingCreationDate  Term LoanStatus  BorrowerRate  \\\n",
       "0 2007-08-26 19:09:29.263    36  Completed        0.1580   \n",
       "1 2014-02-27 08:28:07.900    36    Current        0.0920   \n",
       "2 2007-01-05 15:00:47.090    36  Completed        0.2750   \n",
       "3 2012-10-22 11:02:35.010    36    Current        0.0974   \n",
       "4 2013-09-14 18:38:39.097    36    Current        0.2085   \n",
       "\n",
       "  ProsperRating (Alpha)  ListingCategory (numeric)     Occupation  \\\n",
       "0                   NaN                          0          Other   \n",
       "1                     A                          2   Professional   \n",
       "2                   NaN                          0          Other   \n",
       "3                     A                         16  Skilled Labor   \n",
       "4                     D                          2      Executive   \n",
       "\n",
       "  EmploymentStatus  IsBorrowerHomeowner  DelinquenciesLast7Years  \\\n",
       "0    Self-employed                 True                      4.0   \n",
       "1         Employed                False                      0.0   \n",
       "2    Not available                False                      0.0   \n",
       "3         Employed                 True                     14.0   \n",
       "4         Employed                 True                      0.0   \n",
       "\n",
       "   StatedMonthlyIncome                  LoanKey  OnTimeProsperPayments  \\\n",
       "0          3083.333333  E33A3400205839220442E84                    NaN   \n",
       "1          6125.000000  9E3B37071505919926B1D82                    NaN   \n",
       "2          2083.333333  6954337960046817851BCB2                    NaN   \n",
       "3          2875.000000  A0393664465886295619C51                    NaN   \n",
       "4          9583.333333  A180369302188889200689E                   11.0   \n",
       "\n",
       "   LoanOriginalAmount  \n",
       "0                9425  \n",
       "1               10000  \n",
       "2                3001  \n",
       "3               10000  \n",
       "4               15000  "
      ]
     },
     "execution_count": 31,
     "metadata": {},
     "output_type": "execute_result"
    }
   ],
   "source": [
    "loans.head()"
   ]
  },
  {
   "cell_type": "code",
   "execution_count": 32,
   "id": "3770ed57",
   "metadata": {},
   "outputs": [
    {
     "data": {
      "text/plain": [
       "0.0     76439\n",
       "1.0      3967\n",
       "3.0      3183\n",
       "2.0      2879\n",
       "4.0      2592\n",
       "        ...  \n",
       "97.0        4\n",
       "85.0        3\n",
       "94.0        3\n",
       "98.0        3\n",
       "93.0        2\n",
       "Name: DelinquenciesLast7Years, Length: 100, dtype: int64"
      ]
     },
     "execution_count": 32,
     "metadata": {},
     "output_type": "execute_result"
    }
   ],
   "source": [
    "#check the values in this column\n",
    "loans['DelinquenciesLast7Years'].value_counts()"
   ]
  },
  {
   "cell_type": "markdown",
   "id": "c9e06061",
   "metadata": {},
   "source": [
    "- I will be filling this column with the median positioin, because median is more preferrable so as not to be affected in occasions  where we have extreme data poins"
   ]
  },
  {
   "cell_type": "code",
   "execution_count": 33,
   "id": "dd7ba69d",
   "metadata": {},
   "outputs": [],
   "source": [
    "#get the median of DelinquenciesLast7Years\n",
    "median_D=loans['DelinquenciesLast7Years'].median()"
   ]
  },
  {
   "cell_type": "code",
   "execution_count": 34,
   "id": "f405be1d",
   "metadata": {},
   "outputs": [],
   "source": [
    "#Fill DelinquenciesLast7Years with the median\n",
    "loans['DelinquenciesLast7Years'].fillna(median_D, inplace=True)"
   ]
  },
  {
   "cell_type": "markdown",
   "id": "73b71c0b",
   "metadata": {},
   "source": [
    "### Test"
   ]
  },
  {
   "cell_type": "code",
   "execution_count": 35,
   "id": "b9cd035b",
   "metadata": {},
   "outputs": [
    {
     "data": {
      "text/plain": [
       "ListingCreationDate              0\n",
       "Term                             0\n",
       "LoanStatus                       0\n",
       "BorrowerRate                     0\n",
       "ProsperRating (Alpha)        29084\n",
       "ListingCategory (numeric)        0\n",
       "Occupation                    3588\n",
       "EmploymentStatus              2255\n",
       "IsBorrowerHomeowner              0\n",
       "DelinquenciesLast7Years          0\n",
       "StatedMonthlyIncome              0\n",
       "LoanKey                          0\n",
       "OnTimeProsperPayments        91852\n",
       "LoanOriginalAmount               0\n",
       "dtype: int64"
      ]
     },
     "execution_count": 35,
     "metadata": {},
     "output_type": "execute_result"
    }
   ],
   "source": [
    "#comfirm the features have no missing values\n",
    "loans.isnull().sum()"
   ]
  },
  {
   "cell_type": "markdown",
   "id": "0954d528",
   "metadata": {},
   "source": [
    "### Define\n",
    "- Rename Columns"
   ]
  },
  {
   "cell_type": "markdown",
   "id": "5b6a2da7",
   "metadata": {},
   "source": [
    "### Code"
   ]
  },
  {
   "cell_type": "code",
   "execution_count": 36,
   "id": "1400a28b",
   "metadata": {},
   "outputs": [],
   "source": [
    "loans.rename(columns={'ListingCategory (numeric)':'Listing','ProsperRating (Alpha)':'Prosper_Rating',\n",
    "                      'LoanOriginalAmount':'Amountof_Loan','ListingCreationDate':'Dateof_Listing',\n",
    "                      'IsBorrowerHomeowner':'HomeOwner','StatedMonthlyIncome':'MonthlyIncome'}, inplace=True)\n"
   ]
  },
  {
   "cell_type": "markdown",
   "id": "3788c1be",
   "metadata": {},
   "source": [
    "### Test"
   ]
  },
  {
   "cell_type": "code",
   "execution_count": 37,
   "id": "0b9325d5",
   "metadata": {},
   "outputs": [
    {
     "data": {
      "text/plain": [
       "Index(['Dateof_Listing', 'Term', 'LoanStatus', 'BorrowerRate',\n",
       "       'Prosper_Rating', 'Listing', 'Occupation', 'EmploymentStatus',\n",
       "       'HomeOwner', 'DelinquenciesLast7Years', 'MonthlyIncome', 'LoanKey',\n",
       "       'OnTimeProsperPayments', 'Amountof_Loan'],\n",
       "      dtype='object')"
      ]
     },
     "execution_count": 37,
     "metadata": {},
     "output_type": "execute_result"
    }
   ],
   "source": [
    "loans.columns"
   ]
  },
  {
   "cell_type": "code",
   "execution_count": 38,
   "id": "a21219d4",
   "metadata": {},
   "outputs": [],
   "source": [
    "loans_df=loans.copy()"
   ]
  },
  {
   "cell_type": "markdown",
   "id": "d1e032bb",
   "metadata": {},
   "source": [
    "### Define\n",
    "- Convert Prosper_Rating to a categorical data"
   ]
  },
  {
   "cell_type": "markdown",
   "id": "21ffea2b",
   "metadata": {},
   "source": [
    "### Code"
   ]
  },
  {
   "cell_type": "code",
   "execution_count": 39,
   "id": "88c45da8",
   "metadata": {},
   "outputs": [
    {
     "data": {
      "text/plain": [
       "C     18345\n",
       "B     15581\n",
       "A     14551\n",
       "D     14274\n",
       "E      9795\n",
       "HR     6935\n",
       "AA     5372\n",
       "Name: Prosper_Rating, dtype: int64"
      ]
     },
     "execution_count": 39,
     "metadata": {},
     "output_type": "execute_result"
    }
   ],
   "source": [
    "#convert Prosper_Rating to categorical variable\n",
    "loans['Prosper_Rating'].value_counts()"
   ]
  },
  {
   "cell_type": "code",
   "execution_count": 40,
   "id": "6cea4133",
   "metadata": {},
   "outputs": [],
   "source": [
    "ordinal_var=['AA','A','B','C','D','E','HR']\n",
    "ordered_var=pd.api.types.CategoricalDtype(ordered=True, categories=ordinal_var)\n",
    "loans['Prosper_Rating']=loans['Prosper_Rating'].astype(ordered_var)"
   ]
  },
  {
   "cell_type": "markdown",
   "id": "89aee747",
   "metadata": {},
   "source": [
    "### Test"
   ]
  },
  {
   "cell_type": "code",
   "execution_count": 41,
   "id": "de41692c",
   "metadata": {},
   "outputs": [
    {
     "data": {
      "text/plain": [
       "Dateof_Listing             datetime64[ns]\n",
       "Term                                int64\n",
       "LoanStatus                         object\n",
       "BorrowerRate                      float64\n",
       "Prosper_Rating                   category\n",
       "Listing                             int64\n",
       "Occupation                         object\n",
       "EmploymentStatus                   object\n",
       "HomeOwner                            bool\n",
       "DelinquenciesLast7Years           float64\n",
       "MonthlyIncome                     float64\n",
       "LoanKey                            object\n",
       "OnTimeProsperPayments             float64\n",
       "Amountof_Loan                       int64\n",
       "dtype: object"
      ]
     },
     "execution_count": 41,
     "metadata": {},
     "output_type": "execute_result"
    }
   ],
   "source": [
    "loans.dtypes"
   ]
  },
  {
   "cell_type": "code",
   "execution_count": 42,
   "id": "a884edac",
   "metadata": {},
   "outputs": [
    {
     "data": {
      "text/plain": [
       "Dateof_Listing                 0\n",
       "Term                           0\n",
       "LoanStatus                     0\n",
       "BorrowerRate                   0\n",
       "Prosper_Rating             29084\n",
       "Listing                        0\n",
       "Occupation                  3588\n",
       "EmploymentStatus            2255\n",
       "HomeOwner                      0\n",
       "DelinquenciesLast7Years        0\n",
       "MonthlyIncome                  0\n",
       "LoanKey                        0\n",
       "OnTimeProsperPayments      91852\n",
       "Amountof_Loan                  0\n",
       "dtype: int64"
      ]
     },
     "execution_count": 42,
     "metadata": {},
     "output_type": "execute_result"
    }
   ],
   "source": [
    "loans.isnull().sum()"
   ]
  },
  {
   "cell_type": "markdown",
   "id": "6daf8403",
   "metadata": {},
   "source": [
    "### Define\n",
    "- Fill the missing values in Occupation with 'No_occupation'"
   ]
  },
  {
   "cell_type": "markdown",
   "id": "d6241291",
   "metadata": {},
   "source": [
    "### Code"
   ]
  },
  {
   "cell_type": "code",
   "execution_count": 43,
   "id": "a789d2e9",
   "metadata": {},
   "outputs": [],
   "source": [
    "#repalce the missing values in Occupation with np.nap\n",
    "#since the missing values might not be removeable by ordinary  means\n",
    "loans['Occupation']=loans['Occupation'].fillna('No_occupation')\n"
   ]
  },
  {
   "cell_type": "markdown",
   "id": "536e5f4c",
   "metadata": {},
   "source": [
    "### Test"
   ]
  },
  {
   "cell_type": "code",
   "execution_count": 44,
   "id": "effe4364",
   "metadata": {},
   "outputs": [
    {
     "data": {
      "text/plain": [
       "Dateof_Listing                 0\n",
       "Term                           0\n",
       "LoanStatus                     0\n",
       "BorrowerRate                   0\n",
       "Prosper_Rating             29084\n",
       "Listing                        0\n",
       "Occupation                     0\n",
       "EmploymentStatus            2255\n",
       "HomeOwner                      0\n",
       "DelinquenciesLast7Years        0\n",
       "MonthlyIncome                  0\n",
       "LoanKey                        0\n",
       "OnTimeProsperPayments      91852\n",
       "Amountof_Loan                  0\n",
       "dtype: int64"
      ]
     },
     "execution_count": 44,
     "metadata": {},
     "output_type": "execute_result"
    }
   ],
   "source": [
    "loans.isnull().sum()"
   ]
  },
  {
   "cell_type": "markdown",
   "id": "70d1fe5f",
   "metadata": {},
   "source": [
    "### Define\n",
    "###### Create a dataframe to extract only observations where there are no missing values in\n",
    "- Prosper_Rating\n",
    "- EmploymentStatus\n",
    "- OnTimeProsperPayments"
   ]
  },
  {
   "cell_type": "markdown",
   "id": "b329d4ad",
   "metadata": {},
   "source": [
    "### Code"
   ]
  },
  {
   "cell_type": "code",
   "execution_count": 45,
   "id": "5ce34597",
   "metadata": {},
   "outputs": [],
   "source": [
    "#create a dataframe where there are no missing values in OnTimeProsperPayments,Prosper_Rating and EmploymentStatus\n",
    "Loans_Clean=loans[loans['Prosper_Rating'].notnull() & loans['EmploymentStatus'].notnull() & \n",
    "                  loans['OnTimeProsperPayments'].notnull()]"
   ]
  },
  {
   "cell_type": "markdown",
   "id": "0e310b00",
   "metadata": {},
   "source": [
    "### Test"
   ]
  },
  {
   "cell_type": "code",
   "execution_count": 46,
   "id": "9ebb5062",
   "metadata": {},
   "outputs": [
    {
     "data": {
      "text/plain": [
       "Dateof_Listing             0\n",
       "Term                       0\n",
       "LoanStatus                 0\n",
       "BorrowerRate               0\n",
       "Prosper_Rating             0\n",
       "Listing                    0\n",
       "Occupation                 0\n",
       "EmploymentStatus           0\n",
       "HomeOwner                  0\n",
       "DelinquenciesLast7Years    0\n",
       "MonthlyIncome              0\n",
       "LoanKey                    0\n",
       "OnTimeProsperPayments      0\n",
       "Amountof_Loan              0\n",
       "dtype: int64"
      ]
     },
     "execution_count": 46,
     "metadata": {},
     "output_type": "execute_result"
    }
   ],
   "source": [
    "#comfirm there is no missing values\n",
    "Loans_Clean.isnull().sum()"
   ]
  },
  {
   "cell_type": "code",
   "execution_count": 47,
   "id": "3cd839a0",
   "metadata": {},
   "outputs": [
    {
     "data": {
      "text/plain": [
       "162"
      ]
     },
     "execution_count": 47,
     "metadata": {},
     "output_type": "execute_result"
    }
   ],
   "source": [
    "#Check that there are no duplicates\n",
    "Loans_Clean.duplicated().sum()"
   ]
  },
  {
   "cell_type": "markdown",
   "id": "296feb8f",
   "metadata": {},
   "source": [
    "### Define\n",
    "- Remove the duplicates"
   ]
  },
  {
   "cell_type": "markdown",
   "id": "f01f2874",
   "metadata": {},
   "source": [
    "### Code"
   ]
  },
  {
   "cell_type": "code",
   "execution_count": 48,
   "id": "221a35db",
   "metadata": {},
   "outputs": [
    {
     "name": "stderr",
     "output_type": "stream",
     "text": [
      "C:\\Users\\512GB\\AppData\\Local\\Temp\\ipykernel_14504\\3981141329.py:2: SettingWithCopyWarning: \n",
      "A value is trying to be set on a copy of a slice from a DataFrame\n",
      "\n",
      "See the caveats in the documentation: https://pandas.pydata.org/pandas-docs/stable/user_guide/indexing.html#returning-a-view-versus-a-copy\n",
      "  Loans_Clean.drop_duplicates(inplace=True)\n"
     ]
    }
   ],
   "source": [
    "#drop the duplicates\n",
    "Loans_Clean.drop_duplicates(inplace=True)"
   ]
  },
  {
   "cell_type": "markdown",
   "id": "8d169a01",
   "metadata": {},
   "source": [
    "### Test"
   ]
  },
  {
   "cell_type": "code",
   "execution_count": 49,
   "id": "709b5b15",
   "metadata": {},
   "outputs": [
    {
     "data": {
      "text/plain": [
       "0"
      ]
     },
     "execution_count": 49,
     "metadata": {},
     "output_type": "execute_result"
    }
   ],
   "source": [
    "#comfirm the duplicates are removed\n",
    "Loans_Clean.duplicated().sum()"
   ]
  },
  {
   "cell_type": "code",
   "execution_count": 50,
   "id": "fe7fbde1",
   "metadata": {},
   "outputs": [
    {
     "data": {
      "text/html": [
       "<div>\n",
       "<style scoped>\n",
       "    .dataframe tbody tr th:only-of-type {\n",
       "        vertical-align: middle;\n",
       "    }\n",
       "\n",
       "    .dataframe tbody tr th {\n",
       "        vertical-align: top;\n",
       "    }\n",
       "\n",
       "    .dataframe thead th {\n",
       "        text-align: right;\n",
       "    }\n",
       "</style>\n",
       "<table border=\"1\" class=\"dataframe\">\n",
       "  <thead>\n",
       "    <tr style=\"text-align: right;\">\n",
       "      <th></th>\n",
       "      <th>Term</th>\n",
       "      <th>BorrowerRate</th>\n",
       "      <th>Listing</th>\n",
       "      <th>DelinquenciesLast7Years</th>\n",
       "      <th>MonthlyIncome</th>\n",
       "      <th>OnTimeProsperPayments</th>\n",
       "      <th>Amountof_Loan</th>\n",
       "    </tr>\n",
       "  </thead>\n",
       "  <tbody>\n",
       "    <tr>\n",
       "      <th>count</th>\n",
       "      <td>19635.000000</td>\n",
       "      <td>19635.000000</td>\n",
       "      <td>19635.000000</td>\n",
       "      <td>19635.000000</td>\n",
       "      <td>19635.000000</td>\n",
       "      <td>19635.000000</td>\n",
       "      <td>19635.000000</td>\n",
       "    </tr>\n",
       "    <tr>\n",
       "      <th>mean</th>\n",
       "      <td>42.220321</td>\n",
       "      <td>0.191520</td>\n",
       "      <td>3.685918</td>\n",
       "      <td>3.645022</td>\n",
       "      <td>5941.546235</td>\n",
       "      <td>23.597606</td>\n",
       "      <td>7848.634428</td>\n",
       "    </tr>\n",
       "    <tr>\n",
       "      <th>std</th>\n",
       "      <td>11.749904</td>\n",
       "      <td>0.077983</td>\n",
       "      <td>4.571448</td>\n",
       "      <td>8.957302</td>\n",
       "      <td>4275.042716</td>\n",
       "      <td>19.354896</td>\n",
       "      <td>5385.781852</td>\n",
       "    </tr>\n",
       "    <tr>\n",
       "      <th>min</th>\n",
       "      <td>12.000000</td>\n",
       "      <td>0.040000</td>\n",
       "      <td>0.000000</td>\n",
       "      <td>0.000000</td>\n",
       "      <td>0.000000</td>\n",
       "      <td>0.000000</td>\n",
       "      <td>1000.000000</td>\n",
       "    </tr>\n",
       "    <tr>\n",
       "      <th>25%</th>\n",
       "      <td>36.000000</td>\n",
       "      <td>0.126900</td>\n",
       "      <td>1.000000</td>\n",
       "      <td>0.000000</td>\n",
       "      <td>3466.666667</td>\n",
       "      <td>9.000000</td>\n",
       "      <td>4000.000000</td>\n",
       "    </tr>\n",
       "    <tr>\n",
       "      <th>50%</th>\n",
       "      <td>36.000000</td>\n",
       "      <td>0.185200</td>\n",
       "      <td>1.000000</td>\n",
       "      <td>0.000000</td>\n",
       "      <td>5000.000000</td>\n",
       "      <td>17.000000</td>\n",
       "      <td>6350.000000</td>\n",
       "    </tr>\n",
       "    <tr>\n",
       "      <th>75%</th>\n",
       "      <td>60.000000</td>\n",
       "      <td>0.255700</td>\n",
       "      <td>6.000000</td>\n",
       "      <td>2.000000</td>\n",
       "      <td>7250.000000</td>\n",
       "      <td>34.000000</td>\n",
       "      <td>10790.500000</td>\n",
       "    </tr>\n",
       "    <tr>\n",
       "      <th>max</th>\n",
       "      <td>60.000000</td>\n",
       "      <td>0.360000</td>\n",
       "      <td>20.000000</td>\n",
       "      <td>99.000000</td>\n",
       "      <td>150000.000000</td>\n",
       "      <td>141.000000</td>\n",
       "      <td>35000.000000</td>\n",
       "    </tr>\n",
       "  </tbody>\n",
       "</table>\n",
       "</div>"
      ],
      "text/plain": [
       "               Term  BorrowerRate       Listing  DelinquenciesLast7Years  \\\n",
       "count  19635.000000  19635.000000  19635.000000             19635.000000   \n",
       "mean      42.220321      0.191520      3.685918                 3.645022   \n",
       "std       11.749904      0.077983      4.571448                 8.957302   \n",
       "min       12.000000      0.040000      0.000000                 0.000000   \n",
       "25%       36.000000      0.126900      1.000000                 0.000000   \n",
       "50%       36.000000      0.185200      1.000000                 0.000000   \n",
       "75%       60.000000      0.255700      6.000000                 2.000000   \n",
       "max       60.000000      0.360000     20.000000                99.000000   \n",
       "\n",
       "       MonthlyIncome  OnTimeProsperPayments  Amountof_Loan  \n",
       "count   19635.000000           19635.000000   19635.000000  \n",
       "mean     5941.546235              23.597606    7848.634428  \n",
       "std      4275.042716              19.354896    5385.781852  \n",
       "min         0.000000               0.000000    1000.000000  \n",
       "25%      3466.666667               9.000000    4000.000000  \n",
       "50%      5000.000000              17.000000    6350.000000  \n",
       "75%      7250.000000              34.000000   10790.500000  \n",
       "max    150000.000000             141.000000   35000.000000  "
      ]
     },
     "execution_count": 50,
     "metadata": {},
     "output_type": "execute_result"
    }
   ],
   "source": [
    "#plot the summary statistics of the new data set\n",
    "Loans_Clean.describe()"
   ]
  },
  {
   "cell_type": "code",
   "execution_count": 51,
   "id": "633cb2a9",
   "metadata": {},
   "outputs": [
    {
     "data": {
      "text/plain": [
       "<AxesSubplot:>"
      ]
     },
     "execution_count": 51,
     "metadata": {},
     "output_type": "execute_result"
    },
    {
     "data": {
      "image/png": "[encoded data removed]",
      "text/plain": [
       "<Figure size 1000x500 with 2 Axes>"
      ]
     },
     "metadata": {},
     "output_type": "display_data"
    }
   ],
   "source": [
    "#let me check the relation ship between each features\n",
    "plt.figure(figsize=[10,5])\n",
    "sns.heatmap(loans.corr(), annot=True)"
   ]
  },
  {
   "cell_type": "markdown",
   "id": "debe12e0",
   "metadata": {},
   "source": [
    "<a id='eda'></a>\n",
    "## Exploratory  Data Analysis"
   ]
  },
  {
   "cell_type": "markdown",
   "id": "f0b466f4",
   "metadata": {},
   "source": [
    "### Univariate Exploration"
   ]
  },
  {
   "cell_type": "code",
   "execution_count": 52,
   "id": "c208a0d1",
   "metadata": {},
   "outputs": [
    {
     "data": {
      "text/html": [
       "<div>\n",
       "<style scoped>\n",
       "    .dataframe tbody tr th:only-of-type {\n",
       "        vertical-align: middle;\n",
       "    }\n",
       "\n",
       "    .dataframe tbody tr th {\n",
       "        vertical-align: top;\n",
       "    }\n",
       "\n",
       "    .dataframe thead th {\n",
       "        text-align: right;\n",
       "    }\n",
       "</style>\n",
       "<table border=\"1\" class=\"dataframe\">\n",
       "  <thead>\n",
       "    <tr style=\"text-align: right;\">\n",
       "      <th></th>\n",
       "      <th>Dateof_Listing</th>\n",
       "      <th>Term</th>\n",
       "      <th>LoanStatus</th>\n",
       "      <th>BorrowerRate</th>\n",
       "      <th>Prosper_Rating</th>\n",
       "      <th>Listing</th>\n",
       "      <th>Occupation</th>\n",
       "      <th>EmploymentStatus</th>\n",
       "      <th>HomeOwner</th>\n",
       "      <th>DelinquenciesLast7Years</th>\n",
       "      <th>MonthlyIncome</th>\n",
       "      <th>LoanKey</th>\n",
       "      <th>OnTimeProsperPayments</th>\n",
       "      <th>Amountof_Loan</th>\n",
       "    </tr>\n",
       "  </thead>\n",
       "  <tbody>\n",
       "    <tr>\n",
       "      <th>4</th>\n",
       "      <td>2013-09-14 18:38:39.097</td>\n",
       "      <td>36</td>\n",
       "      <td>Current</td>\n",
       "      <td>0.2085</td>\n",
       "      <td>D</td>\n",
       "      <td>2</td>\n",
       "      <td>Executive</td>\n",
       "      <td>Employed</td>\n",
       "      <td>True</td>\n",
       "      <td>0.0</td>\n",
       "      <td>9583.333333</td>\n",
       "      <td>A180369302188889200689E</td>\n",
       "      <td>11.0</td>\n",
       "      <td>15000</td>\n",
       "    </tr>\n",
       "    <tr>\n",
       "      <th>16</th>\n",
       "      <td>2013-07-16 12:42:48.680</td>\n",
       "      <td>60</td>\n",
       "      <td>Current</td>\n",
       "      <td>0.2809</td>\n",
       "      <td>E</td>\n",
       "      <td>6</td>\n",
       "      <td>Professional</td>\n",
       "      <td>Full-time</td>\n",
       "      <td>True</td>\n",
       "      <td>12.0</td>\n",
       "      <td>8291.666667</td>\n",
       "      <td>2C78368704199057024A715</td>\n",
       "      <td>67.0</td>\n",
       "      <td>4000</td>\n",
       "    </tr>\n",
       "    <tr>\n",
       "      <th>19</th>\n",
       "      <td>2013-08-21 06:49:02.093</td>\n",
       "      <td>60</td>\n",
       "      <td>Current</td>\n",
       "      <td>0.2225</td>\n",
       "      <td>D</td>\n",
       "      <td>1</td>\n",
       "      <td>Laborer</td>\n",
       "      <td>Employed</td>\n",
       "      <td>False</td>\n",
       "      <td>0.0</td>\n",
       "      <td>3075.000000</td>\n",
       "      <td>A02836960150183071E32AD</td>\n",
       "      <td>12.0</td>\n",
       "      <td>6500</td>\n",
       "    </tr>\n",
       "    <tr>\n",
       "      <th>33</th>\n",
       "      <td>2010-10-10 13:23:30.757</td>\n",
       "      <td>36</td>\n",
       "      <td>Completed</td>\n",
       "      <td>0.0785</td>\n",
       "      <td>AA</td>\n",
       "      <td>7</td>\n",
       "      <td>Other</td>\n",
       "      <td>Employed</td>\n",
       "      <td>False</td>\n",
       "      <td>0.0</td>\n",
       "      <td>13083.333333</td>\n",
       "      <td>91E0360126027167265496D</td>\n",
       "      <td>8.0</td>\n",
       "      <td>16000</td>\n",
       "    </tr>\n",
       "    <tr>\n",
       "      <th>47</th>\n",
       "      <td>2013-05-01 08:18:59.183</td>\n",
       "      <td>36</td>\n",
       "      <td>Current</td>\n",
       "      <td>0.1299</td>\n",
       "      <td>A</td>\n",
       "      <td>1</td>\n",
       "      <td>Professional</td>\n",
       "      <td>Employed</td>\n",
       "      <td>True</td>\n",
       "      <td>0.0</td>\n",
       "      <td>5416.666667</td>\n",
       "      <td>76BB3680997666469826273</td>\n",
       "      <td>20.0</td>\n",
       "      <td>15000</td>\n",
       "    </tr>\n",
       "  </tbody>\n",
       "</table>\n",
       "</div>"
      ],
      "text/plain": [
       "            Dateof_Listing  Term LoanStatus  BorrowerRate Prosper_Rating  \\\n",
       "4  2013-09-14 18:38:39.097    36    Current        0.2085              D   \n",
       "16 2013-07-16 12:42:48.680    60    Current        0.2809              E   \n",
       "19 2013-08-21 06:49:02.093    60    Current        0.2225              D   \n",
       "33 2010-10-10 13:23:30.757    36  Completed        0.0785             AA   \n",
       "47 2013-05-01 08:18:59.183    36    Current        0.1299              A   \n",
       "\n",
       "    Listing    Occupation EmploymentStatus  HomeOwner  \\\n",
       "4         2     Executive         Employed       True   \n",
       "16        6  Professional        Full-time       True   \n",
       "19        1       Laborer         Employed      False   \n",
       "33        7         Other         Employed      False   \n",
       "47        1  Professional         Employed       True   \n",
       "\n",
       "    DelinquenciesLast7Years  MonthlyIncome                  LoanKey  \\\n",
       "4                       0.0    9583.333333  A180369302188889200689E   \n",
       "16                     12.0    8291.666667  2C78368704199057024A715   \n",
       "19                      0.0    3075.000000  A02836960150183071E32AD   \n",
       "33                      0.0   13083.333333  91E0360126027167265496D   \n",
       "47                      0.0    5416.666667  76BB3680997666469826273   \n",
       "\n",
       "    OnTimeProsperPayments  Amountof_Loan  \n",
       "4                    11.0          15000  \n",
       "16                   67.0           4000  \n",
       "19                   12.0           6500  \n",
       "33                    8.0          16000  \n",
       "47                   20.0          15000  "
      ]
     },
     "execution_count": 52,
     "metadata": {},
     "output_type": "execute_result"
    }
   ],
   "source": [
    "Loans_Clean.head()"
   ]
  },
  {
   "cell_type": "markdown",
   "id": "78ca7f2b",
   "metadata": {},
   "source": [
    "### Question1 (What Employment Status of the Borrowers  has the Highest Percentage?)"
   ]
  },
  {
   "cell_type": "code",
   "execution_count": 53,
   "id": "78ddfc28",
   "metadata": {},
   "outputs": [
    {
     "name": "stdout",
     "output_type": "stream",
     "text": [
      "0.6628978864272982\n"
     ]
    }
   ],
   "source": [
    "n_loan=Loans_Clean['EmploymentStatus'].value_counts().sum()\n",
    "max_loan_count=Loans_Clean['EmploymentStatus'].value_counts()[0]\n",
    "max_loan_prop=max_loan_count/n_loan\n",
    "print(max_loan_prop)"
   ]
  },
  {
   "cell_type": "code",
   "execution_count": 54,
   "id": "77c71ef8",
   "metadata": {},
   "outputs": [
    {
     "data": {
      "image/png": "[encoded data removed]",
      "text/plain": [
       "<Figure size 432x288 with 1 Axes>"
      ]
     },
     "metadata": {
      "needs_background": "light"
     },
     "output_type": "display_data"
    }
   ],
   "source": [
    "n_loan=Loans_Clean['EmploymentStatus'].value_counts().sum()\n",
    "max_loan_count=Loans_Clean['EmploymentStatus'].value_counts()[0]\n",
    "max_loan_prop=max_loan_count/n_loan\n",
    "tick_props=np.arange(0,max_loan_prop,0.20 )\n",
    "tick_name=['{:0.2f}'.format(v) for v in tick_props]\n",
    "\n",
    "base_color=sns.color_palette()[0]\n",
    "type_order=Loans_Clean['EmploymentStatus'].value_counts().index\n",
    "sns.countplot(data=Loans_Clean, y='EmploymentStatus', color=base_color, order=type_order)\n",
    "plt.xticks(tick_props*n_loan, tick_name)\n",
    "plt.title('Percentage of EmploymentStatus', fontsize=15);\n",
    "\n",
    "\n",
    "for i in range(Loans_Clean['EmploymentStatus'].value_counts().shape[0]):\n",
    "    count=Loans_Clean['EmploymentStatus'].value_counts()[i]\n",
    "    pct_string='{:0.1f}%'.format(100*count/n_loan)\n",
    "    plt.text(count+1,i,pct_string, va='center')\n",
    "    plt.xlabel('Proportion')"
   ]
  },
  {
   "cell_type": "markdown",
   "id": "6d91e9df",
   "metadata": {},
   "source": [
    "- 66.3 percent of the Borrowers are employed and it is seen that there are larger percentage of Loan borrowers who are  employed\n",
    "- There 0.6 perecnt of Borrowers who are not employed\n",
    "###### Hence, Most of the Borrowers are Employed, While very little amount of them are not employed at all."
   ]
  },
  {
   "cell_type": "markdown",
   "id": "43a9bedd",
   "metadata": {},
   "source": [
    "## Question 2 (What is the Distribution DelinquenciesLast7Years and OnTimeProsperPayments of Borrowers?)"
   ]
  },
  {
   "cell_type": "code",
   "execution_count": 55,
   "id": "c4a91306",
   "metadata": {},
   "outputs": [
    {
     "data": {
      "image/png": "[encoded data removed]",
      "text/plain": [
       "<Figure size 1440x360 with 2 Axes>"
      ]
     },
     "metadata": {
      "needs_background": "light"
     },
     "output_type": "display_data"
    }
   ],
   "source": [
    "def sqrt_trans(x, inverse=False):\n",
    "    \"\"\" transformation helper function\"\"\"\n",
    "    if not inverse:\n",
    "        return np.sqrt(x)\n",
    "    else:\n",
    "        return x**2\n",
    "    \n",
    "plt.figure(figsize=[20,5])\n",
    "plt.subplot(1,2,1)\n",
    "#bin resizing, to transform the x-axis\n",
    "bin_edges=np.arange(0, sqrt_trans(Loans_Clean['DelinquenciesLast7Years'].max()+1),1)\n",
    "#plot the scaled data\n",
    "plt.hist(Loans_Clean['DelinquenciesLast7Years'].apply(sqrt_trans), bins=bin_edges)\n",
    "#set the tick locations\n",
    "tick_locs=np.arange(0, sqrt_trans(Loans_Clean['DelinquenciesLast7Years'].max())+5, 5)\n",
    "#apply the x-ticks\n",
    "plt.xticks(tick_locs, sqrt_trans(tick_locs, inverse=True).astype(int))\n",
    "plt.xlabel(' DelinquenciesLast7Years',fontsize=15)\n",
    "plt.title('Distribution of DelinquenciesLast7Years', fontsize=15);\n",
    "\n",
    "plt.subplot(1,2,2)\n",
    "#bin resizing, to transform the x-axis\n",
    "bin_edges=np.arange(0, sqrt_trans(Loans_Clean['OnTimeProsperPayments'].max()+1),1)\n",
    "#plot the scaled data\n",
    "plt.hist(Loans_Clean['OnTimeProsperPayments'].apply(sqrt_trans), bins=bin_edges)\n",
    "#set the tick locations\n",
    "tick_locs=np.arange(0, sqrt_trans(Loans_Clean['OnTimeProsperPayments'].max())+5, 5)\n",
    "#apply the x-ticks\n",
    "plt.xticks(tick_locs, sqrt_trans(tick_locs, inverse=True).astype(int))\n",
    "plt.xlabel('OnTimeProsperPayments', fontsize=15)\n",
    "plt.title('Distribution of OnTimeProsperPayments', fontsize=15);"
   ]
  },
  {
   "cell_type": "markdown",
   "id": "261daafc",
   "metadata": {},
   "source": [
    "- From the distribution plot of the delinquency of last seven years, the histogram is right skilled with its highest bar above and below 12000 and 14000 counts. Lots of delinquencies of last seven years are have low distribution  between 5 and 25, and very low distribution between 25 and 100.\n",
    "\n",
    "- The distribution plot of On time Prosper Payments is Uni modal with its highest peak at 20. It is obviously right skilled with its mean greater than the median. It has very low On time Payments at the extreme left and right side of the histogram"
   ]
  },
  {
   "cell_type": "markdown",
   "id": "64247b16",
   "metadata": {},
   "source": [
    "### Question 3 (What  is the Highest Loan Status of Borrowers?)"
   ]
  },
  {
   "cell_type": "code",
   "execution_count": 56,
   "id": "c2bd2c84",
   "metadata": {},
   "outputs": [
    {
     "data": {
      "image/png": "[encoded data removed]",
      "text/plain": [
       "<Figure size 432x288 with 1 Axes>"
      ]
     },
     "metadata": {
      "needs_background": "light"
     },
     "output_type": "display_data"
    }
   ],
   "source": [
    "#create a figure object\n",
    "fig=plt.figure()\n",
    "#set the scale dimension\n",
    "ax=fig.add_axes([.125,.125,.775,.755])\n",
    "#inedx the 3rd color\n",
    "base_color=sns.color_palette()[2]\n",
    "#get the order of the Loan Status\n",
    "status_order=Loans_Clean['LoanStatus'].value_counts().index\n",
    "#plot the bar chart\n",
    "sns.countplot(data=Loans_Clean, y='LoanStatus', color=base_color, order=status_order, ax=ax)\n",
    "#set the location of the x axes\n",
    "plt.xticks(rotation=90)\n",
    "plt.title('Count of Loan Status', fontsize=15);"
   ]
  },
  {
   "cell_type": "markdown",
   "id": "13baf67f",
   "metadata": {},
   "source": [
    "- From the Bar chart above, Borrowers with Current Loan Status have the highest count, followed by Borrowers who have completed their payments.\n",
    "- From Borrowers who have loan status that is charged off down till those whose loan has past 120 days have the least count."
   ]
  },
  {
   "cell_type": "code",
   "execution_count": 57,
   "id": "d0d811a2",
   "metadata": {},
   "outputs": [
    {
     "data": {
      "text/html": [
       "<div>\n",
       "<style scoped>\n",
       "    .dataframe tbody tr th:only-of-type {\n",
       "        vertical-align: middle;\n",
       "    }\n",
       "\n",
       "    .dataframe tbody tr th {\n",
       "        vertical-align: top;\n",
       "    }\n",
       "\n",
       "    .dataframe thead th {\n",
       "        text-align: right;\n",
       "    }\n",
       "</style>\n",
       "<table border=\"1\" class=\"dataframe\">\n",
       "  <thead>\n",
       "    <tr style=\"text-align: right;\">\n",
       "      <th></th>\n",
       "      <th>Dateof_Listing</th>\n",
       "      <th>Term</th>\n",
       "      <th>LoanStatus</th>\n",
       "      <th>BorrowerRate</th>\n",
       "      <th>Prosper_Rating</th>\n",
       "      <th>Listing</th>\n",
       "      <th>Occupation</th>\n",
       "      <th>EmploymentStatus</th>\n",
       "      <th>HomeOwner</th>\n",
       "      <th>DelinquenciesLast7Years</th>\n",
       "      <th>MonthlyIncome</th>\n",
       "      <th>LoanKey</th>\n",
       "      <th>OnTimeProsperPayments</th>\n",
       "      <th>Amountof_Loan</th>\n",
       "    </tr>\n",
       "  </thead>\n",
       "  <tbody>\n",
       "    <tr>\n",
       "      <th>4</th>\n",
       "      <td>2013-09-14 18:38:39.097</td>\n",
       "      <td>36</td>\n",
       "      <td>Current</td>\n",
       "      <td>0.2085</td>\n",
       "      <td>D</td>\n",
       "      <td>2</td>\n",
       "      <td>Executive</td>\n",
       "      <td>Employed</td>\n",
       "      <td>True</td>\n",
       "      <td>0.0</td>\n",
       "      <td>9583.333333</td>\n",
       "      <td>A180369302188889200689E</td>\n",
       "      <td>11.0</td>\n",
       "      <td>15000</td>\n",
       "    </tr>\n",
       "    <tr>\n",
       "      <th>16</th>\n",
       "      <td>2013-07-16 12:42:48.680</td>\n",
       "      <td>60</td>\n",
       "      <td>Current</td>\n",
       "      <td>0.2809</td>\n",
       "      <td>E</td>\n",
       "      <td>6</td>\n",
       "      <td>Professional</td>\n",
       "      <td>Full-time</td>\n",
       "      <td>True</td>\n",
       "      <td>12.0</td>\n",
       "      <td>8291.666667</td>\n",
       "      <td>2C78368704199057024A715</td>\n",
       "      <td>67.0</td>\n",
       "      <td>4000</td>\n",
       "    </tr>\n",
       "    <tr>\n",
       "      <th>19</th>\n",
       "      <td>2013-08-21 06:49:02.093</td>\n",
       "      <td>60</td>\n",
       "      <td>Current</td>\n",
       "      <td>0.2225</td>\n",
       "      <td>D</td>\n",
       "      <td>1</td>\n",
       "      <td>Laborer</td>\n",
       "      <td>Employed</td>\n",
       "      <td>False</td>\n",
       "      <td>0.0</td>\n",
       "      <td>3075.000000</td>\n",
       "      <td>A02836960150183071E32AD</td>\n",
       "      <td>12.0</td>\n",
       "      <td>6500</td>\n",
       "    </tr>\n",
       "  </tbody>\n",
       "</table>\n",
       "</div>"
      ],
      "text/plain": [
       "            Dateof_Listing  Term LoanStatus  BorrowerRate Prosper_Rating  \\\n",
       "4  2013-09-14 18:38:39.097    36    Current        0.2085              D   \n",
       "16 2013-07-16 12:42:48.680    60    Current        0.2809              E   \n",
       "19 2013-08-21 06:49:02.093    60    Current        0.2225              D   \n",
       "\n",
       "    Listing    Occupation EmploymentStatus  HomeOwner  \\\n",
       "4         2     Executive         Employed       True   \n",
       "16        6  Professional        Full-time       True   \n",
       "19        1       Laborer         Employed      False   \n",
       "\n",
       "    DelinquenciesLast7Years  MonthlyIncome                  LoanKey  \\\n",
       "4                       0.0    9583.333333  A180369302188889200689E   \n",
       "16                     12.0    8291.666667  2C78368704199057024A715   \n",
       "19                      0.0    3075.000000  A02836960150183071E32AD   \n",
       "\n",
       "    OnTimeProsperPayments  Amountof_Loan  \n",
       "4                    11.0          15000  \n",
       "16                   67.0           4000  \n",
       "19                   12.0           6500  "
      ]
     },
     "execution_count": 57,
     "metadata": {},
     "output_type": "execute_result"
    }
   ],
   "source": [
    "Loans_Clean.head(3)"
   ]
  },
  {
   "cell_type": "markdown",
   "id": "aa743f9b",
   "metadata": {},
   "source": [
    "### Question 4 (How many of the Borrowers are Home Owners?)"
   ]
  },
  {
   "cell_type": "code",
   "execution_count": 58,
   "id": "ec5e7eb2",
   "metadata": {},
   "outputs": [
    {
     "data": {
      "text/plain": [
       "True     10450\n",
       "False     9185\n",
       "Name: HomeOwner, dtype: int64"
      ]
     },
     "execution_count": 58,
     "metadata": {},
     "output_type": "execute_result"
    }
   ],
   "source": [
    "Loans_Clean['HomeOwner'].value_counts()"
   ]
  },
  {
   "cell_type": "code",
   "execution_count": 59,
   "id": "01c4373e",
   "metadata": {},
   "outputs": [
    {
     "data": {
      "text/plain": [
       "Text(0.5, 1.0, 'Count of Home Owners')"
      ]
     },
     "execution_count": 59,
     "metadata": {},
     "output_type": "execute_result"
    },
    {
     "data": {
      "image/png": "[encoded data removed]",
      "text/plain": [
       "<Figure size 432x288 with 1 Axes>"
      ]
     },
     "metadata": {
      "needs_background": "light"
     },
     "output_type": "display_data"
    }
   ],
   "source": [
    "type_order=Loans_Clean['HomeOwner'].value_counts().index\n",
    "base_color=sns.color_palette()[4]\n",
    "sns.countplot(data=Loans_Clean, x='HomeOwner', order=type_order, color=base_color)\n",
    "plt.xlabel('Home Owner')\n",
    "plt.ylabel('Count')\n",
    "plt.title('Count of Home Owners', fontsize=15)"
   ]
  },
  {
   "cell_type": "markdown",
   "id": "594d6b57",
   "metadata": {},
   "source": [
    "- Obviously, Loan Borrowers Who have Homes have Count above 10000 and those who have no House are above 8000 but lesser than 10000."
   ]
  },
  {
   "cell_type": "markdown",
   "id": "dd9136ae",
   "metadata": {},
   "source": [
    "### Question 5 ( What is the Distribution of Monthly Income and Amount of Loan of Borrowers)"
   ]
  },
  {
   "cell_type": "code",
   "execution_count": 60,
   "id": "ac56def6",
   "metadata": {},
   "outputs": [
    {
     "data": {
      "text/plain": [
       "count     19635.000000\n",
       "mean       5941.546235\n",
       "std        4275.042716\n",
       "min           0.000000\n",
       "25%        3466.666667\n",
       "50%        5000.000000\n",
       "75%        7250.000000\n",
       "max      150000.000000\n",
       "Name: MonthlyIncome, dtype: float64"
      ]
     },
     "execution_count": 60,
     "metadata": {},
     "output_type": "execute_result"
    }
   ],
   "source": [
    "(Loans_Clean['MonthlyIncome'].describe())"
   ]
  },
  {
   "cell_type": "code",
   "execution_count": 61,
   "id": "d72a4809",
   "metadata": {},
   "outputs": [
    {
     "data": {
      "image/png": "[encoded data removed]",
      "text/plain": [
       "<Figure size 1440x360 with 2 Axes>"
      ]
     },
     "metadata": {
      "needs_background": "light"
     },
     "output_type": "display_data"
    }
   ],
   "source": [
    "plt.figure(figsize=[20,5])\n",
    "\n",
    "plt.subplot(1,2,1)\n",
    "binz=np.arange(0, Loans_Clean['MonthlyIncome'].max()+20000,10000)\n",
    "plt.hist(Loans_Clean['MonthlyIncome'], bins=binz)\n",
    "plt.title('Distribution of Montghly Income')\n",
    "plt.xlabel('Monthly Income');\n",
    "\n",
    "\n",
    "plt.subplot(1,2,2)\n",
    "bins=np.arange(1000, 35000+5000,1000)\n",
    "plt.hist(Loans_Clean['Amountof_Loan'], bins=bins, rwidth=0.7)\n",
    "plt.title('Distribution of Amount of Loan')\n",
    "plt.xlabel('Amount of Loan');\n"
   ]
  },
  {
   "cell_type": "markdown",
   "id": "d02084c0",
   "metadata": {},
   "source": [
    "- The Distribution of Monthly Income is right skewed with its mean higher than the median.\n",
    "- Most of the Monthly Income is between 0 and lesser than 40000\n",
    "- between 0 and 10000 have the highest count and low counts between 0 and 2500.\n",
    "\n",
    "- The Distribution of The Amount of Loan is right skewed with an highst peak at 5000 and very lower Amonut of Loans between (15000 , 20000), (20000,25000) and values from 30000 are obviously outliers."
   ]
  },
  {
   "cell_type": "markdown",
   "id": "57ab73c3",
   "metadata": {},
   "source": [
    "## Observations From Univariate Exploration\n",
    "> For the first countplot , i had to use Percentage and proporion so that i will have a clearer ananysis of each employment status of borrowers. while for the distribution plot of Delinquency of last seven years and on time payment i used a function that deals with the negaitve values i had when i first plotted the graph which really affected my analysis.\n",
    "In the third plot where i used a count plot, it is quite clear that instead of proportion i used count to reveal that \"Current\" loan status has the highest count, which means that most loan borrowers are still paying their loans currently.\n",
    "From the count plot of home owners, it is much more obvious that  most of the loan borrowers are home owners but we cannot conclude that this will have any significat effect on if a borrower will be able to pay back or not or if a borrower should be given money again.\n",
    "The last distribution plot here, i used a width gap of 0.7 for the distribution of amount of loan so that i can have distinguished bars for cleares analysis. and this made me see that Loan Amounts above 30000 are clearly outliers\n"
   ]
  },
  {
   "cell_type": "markdown",
   "id": "34b790c5",
   "metadata": {},
   "source": [
    "### Bivariate Exploration"
   ]
  },
  {
   "cell_type": "markdown",
   "id": "faf85882",
   "metadata": {},
   "source": [
    "### Question 6 (What is the Relationship between Loan term and amount of Loan)"
   ]
  },
  {
   "cell_type": "code",
   "execution_count": 62,
   "id": "effc164e",
   "metadata": {},
   "outputs": [
    {
     "data": {
      "image/png": "[encoded data removed]",
      "text/plain": [
       "<Figure size 432x288 with 2 Axes>"
      ]
     },
     "metadata": {
      "needs_background": "light"
     },
     "output_type": "display_data"
    }
   ],
   "source": [
    "plt.hist2d(data=Loans_Clean, x='BorrowerRate', y='MonthlyIncome', cmin=0.5, cmap='viridis_r')\n",
    "plt.colorbar()\n",
    "plt.title('Relationship between BorrowerRate and MonthlyIncome')\n",
    "plt.xlabel('BorrowerRate')\n",
    "plt.ylabel('MonthlyIncome');"
   ]
  },
  {
   "cell_type": "markdown",
   "id": "be6d4d3a",
   "metadata": {},
   "source": [
    "- The Heat Map above uses color to show high and low correlation respectively.\n",
    "- Strong yellow colors were showing higher correlations but i reversed it so that darker colors show higher relationship.\n",
    "- there is strongest relationships between Monthly Income below 20000 and Borrower Rate of 0.15"
   ]
  },
  {
   "cell_type": "markdown",
   "id": "151ccf5b",
   "metadata": {},
   "source": [
    "### Question 7 (Which Loan Status has the highest Average Monthly Income?)"
   ]
  },
  {
   "cell_type": "code",
   "execution_count": 64,
   "id": "96f1764f",
   "metadata": {},
   "outputs": [
    {
     "data": {
      "text/plain": [
       "Current                   10725\n",
       "Completed                  6490\n",
       "Chargedoff                 1466\n",
       "Defaulted                   291\n",
       "Past Due (1-15 days)        247\n",
       "Past Due (61-90 days)        97\n",
       "Past Due (91-120 days)       93\n",
       "Past Due (31-60 days)        86\n",
       "Past Due (16-30 days)        74\n",
       "FinalPaymentInProgress       61\n",
       "Past Due (>120 days)          5\n",
       "Name: LoanStatus, dtype: int64"
      ]
     },
     "execution_count": 64,
     "metadata": {},
     "output_type": "execute_result"
    }
   ],
   "source": [
    "Loans_Clean['LoanStatus'].value_counts()"
   ]
  },
  {
   "cell_type": "code",
   "execution_count": 65,
   "id": "759c3294",
   "metadata": {},
   "outputs": [
    {
     "data": {
      "text/plain": [
       "LoanStatus\n",
       "Chargedoff                4764.557356\n",
       "Completed                 5702.522483\n",
       "Current                   6304.812121\n",
       "Defaulted                 4479.290664\n",
       "FinalPaymentInProgress    6758.685792\n",
       "Past Due (1-15 days)      5742.642038\n",
       "Past Due (16-30 days)     6063.824324\n",
       "Past Due (31-60 days)     6052.973837\n",
       "Past Due (61-90 days)     5235.192440\n",
       "Past Due (91-120 days)    4510.232079\n",
       "Past Due (>120 days)      3641.666667\n",
       "Name: MonthlyIncome, dtype: float64"
      ]
     },
     "execution_count": 65,
     "metadata": {},
     "output_type": "execute_result"
    }
   ],
   "source": [
    "Loans_Clean.groupby('LoanStatus')['MonthlyIncome'].mean()"
   ]
  },
  {
   "cell_type": "code",
   "execution_count": 66,
   "id": "b4e70a39",
   "metadata": {},
   "outputs": [
    {
     "data": {
      "image/png": "[encoded data removed]",
      "text/plain": [
       "<Figure size 432x288 with 1 Axes>"
      ]
     },
     "metadata": {
      "needs_background": "light"
     },
     "output_type": "display_data"
    }
   ],
   "source": [
    "Loans_Clean.groupby('LoanStatus')['MonthlyIncome'].mean().plot(kind='bar')\n",
    "plt.xticks(rotation=80)\n",
    "plt.xlabel('LoanStatus')\n",
    "plt.ylabel('Average Monthly Income')\n",
    "plt.title('Average Monthly Income by Loan Status');"
   ]
  },
  {
   "cell_type": "markdown",
   "id": "9990daf8",
   "metadata": {},
   "source": [
    "- Obviously Borrowers with Loan Status of Fianl Payment In progress have the highest  Average monthly Income which is above 6500, while Borrowers with Loan Status of Past Due (>120 days) have the Least Average Monthly Income which is below 4000."
   ]
  },
  {
   "cell_type": "markdown",
   "id": "a319a6cd",
   "metadata": {},
   "source": [
    "### Question 8 ( Are there differences in the types of Loan Status based on Rating?)"
   ]
  },
  {
   "cell_type": "code",
   "execution_count": 67,
   "id": "1d38aefc",
   "metadata": {},
   "outputs": [
    {
     "name": "stderr",
     "output_type": "stream",
     "text": [
      "C:\\Users\\USER\\AppData\\Local\\Temp/ipykernel_2868/3543860765.py:3: SettingWithCopyWarning: \n",
      "A value is trying to be set on a copy of a slice from a DataFrame.\n",
      "Try using .loc[row_indexer,col_indexer] = value instead\n",
      "\n",
      "See the caveats in the documentation: https://pandas.pydata.org/pandas-docs/stable/user_guide/indexing.html#returning-a-view-versus-a-copy\n",
      "  Loans_Clean['Prosper_Rating']=Loans_Clean['Prosper_Rating'].astype(Loan_Rating)\n"
     ]
    }
   ],
   "source": [
    "Loan_categories=['AA','A','B','C','D','HR','E']\n",
    "Loan_Rating=pd.api.types.CategoricalDtype(ordered=True, categories=Loan_categories)\n",
    "Loans_Clean['Prosper_Rating']=Loans_Clean['Prosper_Rating'].astype(Loan_Rating)"
   ]
  },
  {
   "cell_type": "code",
   "execution_count": 68,
   "id": "86b389f5",
   "metadata": {},
   "outputs": [
    {
     "data": {
      "text/plain": [
       "Current                   10725\n",
       "Completed                  6490\n",
       "Chargedoff                 1466\n",
       "Defaulted                   291\n",
       "Past Due (1-15 days)        247\n",
       "Past Due (61-90 days)        97\n",
       "Past Due (91-120 days)       93\n",
       "Past Due (31-60 days)        86\n",
       "Past Due (16-30 days)        74\n",
       "FinalPaymentInProgress       61\n",
       "Past Due (>120 days)          5\n",
       "Name: LoanStatus, dtype: int64"
      ]
     },
     "execution_count": 68,
     "metadata": {},
     "output_type": "execute_result"
    }
   ],
   "source": [
    "Loans_Clean['LoanStatus'].value_counts()"
   ]
  },
  {
   "cell_type": "code",
   "execution_count": 69,
   "id": "1ec0fcac",
   "metadata": {},
   "outputs": [],
   "source": [
    "#am working with just the four ratings with high frequencies\n",
    "#create a new dataframe for this ratings\n",
    "Loan_df=Loans_Clean[Loans_Clean['LoanStatus'].isin(['Current','Completed'])]"
   ]
  },
  {
   "cell_type": "code",
   "execution_count": 70,
   "id": "0a40d369",
   "metadata": {},
   "outputs": [
    {
     "data": {
      "text/html": [
       "<div>\n",
       "<style scoped>\n",
       "    .dataframe tbody tr th:only-of-type {\n",
       "        vertical-align: middle;\n",
       "    }\n",
       "\n",
       "    .dataframe tbody tr th {\n",
       "        vertical-align: top;\n",
       "    }\n",
       "\n",
       "    .dataframe thead th {\n",
       "        text-align: right;\n",
       "    }\n",
       "</style>\n",
       "<table border=\"1\" class=\"dataframe\">\n",
       "  <thead>\n",
       "    <tr style=\"text-align: right;\">\n",
       "      <th>LoanStatus</th>\n",
       "      <th>Completed</th>\n",
       "      <th>Current</th>\n",
       "    </tr>\n",
       "    <tr>\n",
       "      <th>Prosper_Rating</th>\n",
       "      <th></th>\n",
       "      <th></th>\n",
       "    </tr>\n",
       "  </thead>\n",
       "  <tbody>\n",
       "    <tr>\n",
       "      <th>AA</th>\n",
       "      <td>467</td>\n",
       "      <td>865</td>\n",
       "    </tr>\n",
       "    <tr>\n",
       "      <th>A</th>\n",
       "      <td>1319</td>\n",
       "      <td>2812</td>\n",
       "    </tr>\n",
       "    <tr>\n",
       "      <th>B</th>\n",
       "      <td>818</td>\n",
       "      <td>2200</td>\n",
       "    </tr>\n",
       "    <tr>\n",
       "      <th>C</th>\n",
       "      <td>989</td>\n",
       "      <td>2068</td>\n",
       "    </tr>\n",
       "    <tr>\n",
       "      <th>D</th>\n",
       "      <td>1269</td>\n",
       "      <td>1485</td>\n",
       "    </tr>\n",
       "    <tr>\n",
       "      <th>HR</th>\n",
       "      <td>680</td>\n",
       "      <td>302</td>\n",
       "    </tr>\n",
       "    <tr>\n",
       "      <th>E</th>\n",
       "      <td>948</td>\n",
       "      <td>993</td>\n",
       "    </tr>\n",
       "  </tbody>\n",
       "</table>\n",
       "</div>"
      ],
      "text/plain": [
       "LoanStatus      Completed  Current\n",
       "Prosper_Rating                    \n",
       "AA                    467      865\n",
       "A                    1319     2812\n",
       "B                     818     2200\n",
       "C                     989     2068\n",
       "D                    1269     1485\n",
       "HR                    680      302\n",
       "E                     948      993"
      ]
     },
     "execution_count": 70,
     "metadata": {},
     "output_type": "execute_result"
    }
   ],
   "source": [
    "#use a groupby function to produce a pandas series\n",
    "loan_count=Loan_df.groupby(['Prosper_Rating','LoanStatus']).size()\n",
    "loan_count1=loan_count.reset_index(name='count')\n",
    "loan_count2=loan_count1.pivot(index='Prosper_Rating', columns='LoanStatus', values='count')\n",
    "loan_count2"
   ]
  },
  {
   "cell_type": "code",
   "execution_count": 71,
   "id": "fb648226",
   "metadata": {},
   "outputs": [
    {
     "data": {
      "image/png": "[encoded data removed]",
      "text/plain": [
       "<Figure size 1440x360 with 3 Axes>"
      ]
     },
     "metadata": {
      "needs_background": "light"
     },
     "output_type": "display_data"
    }
   ],
   "source": [
    "#create a figure object\n",
    "plt.figure(figsize=[20,5])\n",
    "\n",
    "#subplot1\n",
    "plt.subplot(1,2,1)\n",
    "sns.heatmap(loan_count2, annot=True, fmt='d')\n",
    "plt.title('Loan Status by Rating')\n",
    "\n",
    "plt.subplot(1,2,2)\n",
    "sns.countplot(data=Loan_df, x='Prosper_Rating', hue='LoanStatus')\n",
    "plt.title('Loan Status by Rating');\n",
    "\n",
    "\n"
   ]
  },
  {
   "cell_type": "markdown",
   "id": "373ed60c",
   "metadata": {},
   "source": [
    "- Looking at the Heat Map on the left side between Prosper rating and Loan Status. I have streamlined the Loan Status to those who have completed and still currently paying alone.\n",
    "- There is a stronger correlation between borrowers who have not completed their loans and Rating of A, followed by those who are currently paying and with Rating of B. Least relationship ios between Borrowers who are still currently paying and with a rating of HR "
   ]
  },
  {
   "cell_type": "markdown",
   "id": "83b11ab9",
   "metadata": {},
   "source": [
    "### Question 9 (What is the Relationship between  Loan Status and Interest on amount borrowed?)"
   ]
  },
  {
   "cell_type": "code",
   "execution_count": 72,
   "id": "d987d4a0",
   "metadata": {},
   "outputs": [
    {
     "data": {
      "image/png": "[encoded data removed]",
      "text/plain": [
       "<Figure size 1440x360 with 2 Axes>"
      ]
     },
     "metadata": {
      "needs_background": "light"
     },
     "output_type": "display_data"
    }
   ],
   "source": [
    "plt.figure(figsize=[20,5])\n",
    "base_color=sns.color_palette()[0]\n",
    "\n",
    "plt.subplot(1,2,1)\n",
    "sns.violinplot(data=Loans_Clean, x='LoanStatus', y='BorrowerRate', inner='quartile', color=base_color)\n",
    "plt.xticks(rotation=75)\n",
    "plt.xlabel('Loan Status',fontsize=15)\n",
    "plt.ylabel('Borrower Rate', fontsize=15)\n",
    "plt.title('Loan Status by Borrower Rate', fontsize=16)\n",
    "\n",
    "plt.subplot(1,2,2)\n",
    "sns.boxplot(data=Loans_Clean, x='LoanStatus', y='BorrowerRate',color=base_color)\n",
    "plt.xticks(rotation=75)\n",
    "plt.ylabel('Borrower Rate', fontsize=15)\n",
    "plt.xlabel('Loan Status',fontsize=15)\n",
    "plt.title('Loan Status by Borrower Rate', fontsize=16);"
   ]
  },
  {
   "cell_type": "markdown",
   "id": "d1e301cc",
   "metadata": {},
   "source": [
    "- The Defaulted Loan Status have the highest Median Borrower Rate while Past Due(>120 days) have a more curved distribution at the left and right ends.\n",
    "\n",
    "- More than 50% of Current Loan Status had an interest rate above 0.2 \n",
    "- More than 50% of Borrowers that have completed their loan had interest rate above 0.15\n",
    "- Chargedoff and Defaulted have the same median rate between between 0.25 and 0.30"
   ]
  },
  {
   "cell_type": "markdown",
   "id": "f6f77352",
   "metadata": {},
   "source": [
    "## Question 10()"
   ]
  },
  {
   "cell_type": "code",
   "execution_count": 84,
   "id": "bff5d8a3",
   "metadata": {},
   "outputs": [
    {
     "data": {
      "image/png": "[encoded data removed]",
      "text/plain": [
       "<Figure size 432x288 with 1 Axes>"
      ]
     },
     "metadata": {
      "needs_background": "light"
     },
     "output_type": "display_data"
    }
   ],
   "source": [
    "df_window=Loans_Clean.sort_values('Term').rolling(15)\n",
    "x_windowmean=df_window['Term'].mean()\n",
    "y_median=df_window['BorrowerRate'].median()\n",
    "y_q1=df_window['BorrowerRate'].quantile(.25)\n",
    "y_q3=df_window['BorrowerRate'].quantile(.75)\n",
    "\n",
    "base_color=sns.color_palette()[0]\n",
    "line_color=sns.color_palette('dark')[0]\n",
    "line_color1=sns.color_palette('dark')[1]\n",
    "line_color2=sns.color_palette('dark')[2]\n",
    "\n",
    "plt.scatter(data=Loans_Clean, x='Term', y='BorrowerRate')\n",
    "plt.errorbar(x=x_windowmean, y=y_median, color=line_color)\n",
    "plt.errorbar(x=x_windowmean, y=y_q1, color=line_color1)\n",
    "plt.errorbar(x=x_windowmean, y=y_q3, color=line_color2)\n",
    "\n",
    "plt.xlabel('Term')\n",
    "plt.ylabel('BorrowerRate')\n",
    "plt.title('BorrowerRate by Loan Term');"
   ]
  },
  {
   "cell_type": "markdown",
   "id": "94bc39c1",
   "metadata": {},
   "source": [
    "- The median Borrower Rate occurs between 0.10 and 0.20\n",
    "- The first quartile is between 0.10 and 0.15\n",
    "- The quartile is between 0.05 to 0.10"
   ]
  },
  {
   "cell_type": "markdown",
   "id": "9b3d9f8c",
   "metadata": {},
   "source": [
    "## Observations From Bivariate Exploration\n",
    "> From the first plot where i used an heat map to show relationship between borrower rate and monthly income, the colorpalette i used here is the sequential(viridis to be precise), i applied a reverse direction to the colorbar so that darker regions can show stronger relationships between my variables.\n",
    "two plots after the heatmap, i used groupby class to group the loan status by avergare monthly income so that i can know which of the loan status where borrowers have the highest and lowest average monthly income respectively, obviously it was the those with Loan status of \"Final Payment in Progress\" who had the highest average monthly income\n",
    "In the next plot where i plotted a heat map beside a barchart to show relationship between  the Prosper Rating and Those who have completed and currently paying loans.Here the darker color shows little or no particluar relationship while the lighest color shows strongest relationship, obviously from the heat map, there is a very strong relationship at rating A and Current Loan status. while looking carefully at the barchart it is also clear that borrowers who are still current paying their loans are more than those who have completed it for ratings (AA,A,B,C,D,E, but HR is the only exception with just a very little gap between the bars.\n",
    "I intentionally plotted a violin plot beside a box plot so that the distribution and exploration will be more detailed for proper analysis, Those with Loan status of Chargedoff and defaulted have the highest borrower rating, while Current and Final Payments in Progress have the least.\n"
   ]
  },
  {
   "cell_type": "markdown",
   "id": "4bd0d16b",
   "metadata": {},
   "source": [
    "## Multivariate Analysis"
   ]
  },
  {
   "cell_type": "markdown",
   "id": "95d51d00",
   "metadata": {},
   "source": [
    "## Question 11 (What is the relationship between Amount of loan, Monthly Income and Loan Status?)"
   ]
  },
  {
   "cell_type": "code",
   "execution_count": 74,
   "id": "ef317157",
   "metadata": {},
   "outputs": [
    {
     "data": {
      "image/png": "[encoded data removed]",
      "text/plain": [
       "<Figure size 720x360 with 1 Axes>"
      ]
     },
     "metadata": {
      "needs_background": "light"
     },
     "output_type": "display_data"
    }
   ],
   "source": [
    "#LoanStatus MonthlyIncome Amountof_Loan\n",
    "#np.random.seed(2018)\n",
    "plt.figure(figsize=[10,5])\n",
    "two_status_df=Loans_Clean[Loans_Clean['LoanStatus'].isin(['Current','Completed'])]\n",
    "Loan_markers=[['Current','s'],['Completed','^']]\n",
    "\n",
    "for ltype, markers in Loan_markers:\n",
    "    Loan_df=two_status_df[two_status_df['LoanStatus']==ltype]\n",
    "    sns.regplot(data=Loan_df, x='Amountof_Loan', y='MonthlyIncome', x_jitter=0.04, fit_reg=False, marker=markers)\n",
    "plt.xlabel('Amountof_Loan')\n",
    "plt.ylabel('MonthlyIncome')\n",
    "plt.title('Relationship Between Loan Monthly Income, Amount of loan and Loan status')\n",
    "plt.legend(['Current','Completed']);"
   ]
  },
  {
   "cell_type": "markdown",
   "id": "974528d3",
   "metadata": {},
   "source": [
    "- Borrowers who have completed their loan are more concentrated between 0 and 15000, with monthly income of most likely at most 40000, there are also outliers above 60000 for those who have completed their payment.\n",
    "- Borrowers who are still currently paying their loan are also with more concentrated amount of loan between 0 to 25000 while there seems to be one or more outliers arount 35000 amount of loan, there is also a very obvious outlier at amount of loan between 0 and 5000 with monthly income above 140000"
   ]
  },
  {
   "cell_type": "markdown",
   "id": "7da93664",
   "metadata": {},
   "source": [
    "## Question 12 (What is the Relationship between Monthly Income, Amount of Loan and Deliquency of Last 7 years?)"
   ]
  },
  {
   "cell_type": "code",
   "execution_count": 85,
   "id": "f5e1e439",
   "metadata": {},
   "outputs": [
    {
     "data": {
      "image/png": "[encoded data removed]",
      "text/plain": [
       "<Figure size 720x360 with 1 Axes>"
      ]
     },
     "metadata": {
      "needs_background": "light"
     },
     "output_type": "display_data"
    }
   ],
   "source": [
    "plt.figure(figsize=[10,5])\n",
    "\n",
    "np.random.seed(2018)\n",
    "sample= np.random.choice(Loans_Clean.shape[0], 500, replace=False)\n",
    "Loan_data=Loans_Clean.iloc[sample]\n",
    "\n",
    "sns.regplot(data=Loan_data, x='MonthlyIncome', y='Amountof_Loan', x_jitter=0.04, fit_reg=False, \n",
    "                   scatter_kws={'s':Loan_data['DelinquenciesLast7Years']*3}, color=base_color)\n",
    "plt.xlabel('DelinquenciesLast7Years')\n",
    "plt.ylabel('BorrowerRate')\n",
    "\n",
    "sizes=[300,400,500]\n",
    "base_color=sns.color_palette()[0]\n",
    "legend_obj=[]\n",
    "for s in sizes:\n",
    "    legend_obj.append(plt.scatter([],[],s=s/2, color=base_color))\n",
    "plt.legend(legend_obj, sizes, title= 'DLast7years')\n",
    "plt.title('Relationship between MonthlyIncome,Amountof_Loan and DelinquenciesLast7Years');"
   ]
  },
  {
   "cell_type": "markdown",
   "id": "dcbb4091",
   "metadata": {},
   "source": [
    "- More Borrowers with Higher delinquency of last seven years is most likely between 0 and 10000  and most interest rating is not above 10000.\n",
    "- The next level of delinquency of last seven years seems to exceed 10000 a bit\n",
    "- Delinqyency of last  seven years has some obvious outliers with borrower rate above 20000 .\n",
    "- There is an obvious outlier at delinquency of last seven years at almost exactly 25000."
   ]
  },
  {
   "cell_type": "markdown",
   "id": "7baceee3",
   "metadata": {},
   "source": [
    "## Question 13 ( How do Occupation and Loan Term compare between Employed and  Not Employed Borrowers?)"
   ]
  },
  {
   "cell_type": "code",
   "execution_count": 76,
   "id": "308a0dd7",
   "metadata": {},
   "outputs": [
    {
     "name": "stderr",
     "output_type": "stream",
     "text": [
      "C:\\Users\\USER\\anaconda3\\lib\\site-packages\\seaborn\\axisgrid.py:337: UserWarning: The `size` parameter has been renamed to `height`; please update your code.\n",
      "  warnings.warn(msg, UserWarning)\n"
     ]
    },
    {
     "data": {
      "image/png": "[encoded data removed]",
      "text/plain": [
       "<Figure size 465.75x360 with 1 Axes>"
      ]
     },
     "metadata": {
      "needs_background": "light"
     },
     "output_type": "display_data"
    }
   ],
   "source": [
    "def Plot_E():\n",
    "    Loan_status=Loans_Clean[Loans_Clean['EmploymentStatus'].isin(['Employed','Not employed'])]\n",
    "    sample=np.random.choice(Loan_status.shape[0], 500, replace=False)\n",
    "    Loan_Emp_df=Loan_status.iloc[sample]\n",
    "    \n",
    "    g=sns.FacetGrid(data=Loan_Emp_df, hue='EmploymentStatus',size=5, palette='colorblind')\n",
    "    g.map(plt.scatter, 'Term', 'BorrowerRate')\n",
    "    g.set(yscale='log')\n",
    "    #y_ticks=np.arange(0,Loans_Clean['BorrowerRate'].max()+0.1,0.1 )\n",
    "    #y_label=['{}'.format(v) for v in y_ticks]\n",
    "    \n",
    "    \n",
    "    g.add_legend()\n",
    "Plot_E()"
   ]
  },
  {
   "cell_type": "markdown",
   "id": "d1185f94",
   "metadata": {},
   "source": [
    "- I used a log scale transformation for Borrower Rate.\n",
    "- based on the sample i used so that the data points will not be too much, it is obvious that those who are not employed with loan term between 30 and 40 have borrowwer rate above 0.3 and those with loan term of 60  are also above 0.3.\n",
    "- The loan terms seem to be more vertivcaly linear across each loan terms"
   ]
  },
  {
   "cell_type": "markdown",
   "id": "ba9a696c",
   "metadata": {},
   "source": [
    "## Question 14 ()"
   ]
  },
  {
   "cell_type": "code",
   "execution_count": 77,
   "id": "5961287e",
   "metadata": {},
   "outputs": [
    {
     "data": {
      "image/png": "[encoded data removed]",
      "text/plain": [
       "<Figure size 648x1512 with 21 Axes>"
      ]
     },
     "metadata": {
      "needs_background": "light"
     },
     "output_type": "display_data"
    }
   ],
   "source": [
    "def Facet_status():\n",
    "    Loan_status=Loans_Clean[Loans_Clean['LoanStatus'].isin(['Current','Completed','FinalPaymentInProgress'])]\n",
    "    g=sns.FacetGrid(data=Loan_status, col='LoanStatus', row='Prosper_Rating', margin_titles=True)\n",
    "    g.map(plt.scatter, 'Amountof_Loan','BorrowerRate')\n",
    "Facet_status()\n",
    "    "
   ]
  },
  {
   "cell_type": "markdown",
   "id": "731ebe02",
   "metadata": {},
   "source": [
    "- I have restricted the loan status to just three in oredr to be more specific.\n",
    "- Borrowers with loan status of \"Current\" and Rating of E have clusters between borrower rate of 0.25 and 0.35\n",
    "- Borrowers with loan status of \"Current\" and Rating of HR have clusters mostly likely at 0.30\n",
    "- Borrowers with loan status of \"Current\" and Rating of D have clusters between borrower rate of 0.20 and 0.30\n",
    "- Borrowers with loan status of \"Current\" and Rating of c have clusters between borrower rate of 0.15 and 0.25\n",
    "- Borrowers with loan status of \"Current\" and Rating of B have clusters between borrower rate of 0.10 and 0.20\n",
    "- Borrowers with loan status of \"Current\" and Rating of A have clusters between borrower rate of 0.05 and 0.15\n",
    "- Borrowerswith loan status of \"COmplted\" in comparison to the Prosper Rating have several clusters with relations to the rating on their loans.\n",
    "-  Borrowerswith loan status of \"Fian Payments in Progress\" in comparison to the Prosper Rating have several clusters with relations to the rating on their loans."
   ]
  },
  {
   "cell_type": "code",
   "execution_count": 78,
   "id": "a4fe4c82",
   "metadata": {},
   "outputs": [
    {
     "data": {
      "text/html": [
       "<div>\n",
       "<style scoped>\n",
       "    .dataframe tbody tr th:only-of-type {\n",
       "        vertical-align: middle;\n",
       "    }\n",
       "\n",
       "    .dataframe tbody tr th {\n",
       "        vertical-align: top;\n",
       "    }\n",
       "\n",
       "    .dataframe thead th {\n",
       "        text-align: right;\n",
       "    }\n",
       "</style>\n",
       "<table border=\"1\" class=\"dataframe\">\n",
       "  <thead>\n",
       "    <tr style=\"text-align: right;\">\n",
       "      <th></th>\n",
       "      <th>Dateof_Listing</th>\n",
       "      <th>Term</th>\n",
       "      <th>LoanStatus</th>\n",
       "      <th>BorrowerRate</th>\n",
       "      <th>Prosper_Rating</th>\n",
       "      <th>Listing</th>\n",
       "      <th>Occupation</th>\n",
       "      <th>EmploymentStatus</th>\n",
       "      <th>HomeOwner</th>\n",
       "      <th>DelinquenciesLast7Years</th>\n",
       "      <th>MonthlyIncome</th>\n",
       "      <th>LoanKey</th>\n",
       "      <th>OnTimeProsperPayments</th>\n",
       "      <th>Amountof_Loan</th>\n",
       "    </tr>\n",
       "  </thead>\n",
       "  <tbody>\n",
       "    <tr>\n",
       "      <th>4</th>\n",
       "      <td>2013-09-14 18:38:39.097</td>\n",
       "      <td>36</td>\n",
       "      <td>Current</td>\n",
       "      <td>0.2085</td>\n",
       "      <td>D</td>\n",
       "      <td>2</td>\n",
       "      <td>Executive</td>\n",
       "      <td>Employed</td>\n",
       "      <td>True</td>\n",
       "      <td>0.0</td>\n",
       "      <td>9583.333333</td>\n",
       "      <td>A180369302188889200689E</td>\n",
       "      <td>11.0</td>\n",
       "      <td>15000</td>\n",
       "    </tr>\n",
       "    <tr>\n",
       "      <th>16</th>\n",
       "      <td>2013-07-16 12:42:48.680</td>\n",
       "      <td>60</td>\n",
       "      <td>Current</td>\n",
       "      <td>0.2809</td>\n",
       "      <td>E</td>\n",
       "      <td>6</td>\n",
       "      <td>Professional</td>\n",
       "      <td>Full-time</td>\n",
       "      <td>True</td>\n",
       "      <td>12.0</td>\n",
       "      <td>8291.666667</td>\n",
       "      <td>2C78368704199057024A715</td>\n",
       "      <td>67.0</td>\n",
       "      <td>4000</td>\n",
       "    </tr>\n",
       "  </tbody>\n",
       "</table>\n",
       "</div>"
      ],
      "text/plain": [
       "            Dateof_Listing  Term LoanStatus  BorrowerRate Prosper_Rating  \\\n",
       "4  2013-09-14 18:38:39.097    36    Current        0.2085              D   \n",
       "16 2013-07-16 12:42:48.680    60    Current        0.2809              E   \n",
       "\n",
       "    Listing    Occupation EmploymentStatus  HomeOwner  \\\n",
       "4         2     Executive         Employed       True   \n",
       "16        6  Professional        Full-time       True   \n",
       "\n",
       "    DelinquenciesLast7Years  MonthlyIncome                  LoanKey  \\\n",
       "4                       0.0    9583.333333  A180369302188889200689E   \n",
       "16                     12.0    8291.666667  2C78368704199057024A715   \n",
       "\n",
       "    OnTimeProsperPayments  Amountof_Loan  \n",
       "4                    11.0          15000  \n",
       "16                   67.0           4000  "
      ]
     },
     "execution_count": 78,
     "metadata": {},
     "output_type": "execute_result"
    }
   ],
   "source": [
    "Loans_Clean.head(2)"
   ]
  },
  {
   "cell_type": "markdown",
   "id": "a9cdd8b7",
   "metadata": {},
   "source": [
    "## Question 15 ( How does being a home owner affect Loan Status and Interest on Loan Borrrowed?)"
   ]
  },
  {
   "cell_type": "code",
   "execution_count": 86,
   "id": "eecff509",
   "metadata": {},
   "outputs": [
    {
     "data": {
      "image/png": "[encoded data removed]",
      "text/plain": [
       "<Figure size 1080x360 with 1 Axes>"
      ]
     },
     "metadata": {
      "needs_background": "light"
     },
     "output_type": "display_data"
    }
   ],
   "source": [
    "plt.figure(figsize=[15,5])\n",
    "\n",
    "sns.barplot(data=Loans_Clean,x='LoanStatus',y='BorrowerRate', hue='HomeOwner' )\n",
    "plt.xticks(rotation=75)\n",
    "plt.legend(loc=9, ncol=2)\n",
    "plt.title('LoanStatus by BorrowerRate and HomeOwner');\n"
   ]
  },
  {
   "cell_type": "markdown",
   "id": "7592b9ef",
   "metadata": {},
   "source": [
    "- Borrowers who are still paying currently with No home are more than those who have home and, those with no home have a higher interest rate on their loans than those with home.\n",
    "- Those who have completed loan payment and have home are also lesser than those who do not and also have lesser interest rate on their loans.\n",
    "- Looking carefullt at all the loan status it is obvious that in each section borrowers who are home owners are lesser than those who do not have homes and those who have homes have lesser interest rating on their loans than those who have no home."
   ]
  },
  {
   "cell_type": "markdown",
   "id": "3f51f05b",
   "metadata": {},
   "source": [
    "## Observations From Multivariate Exploration\n",
    "> For the first plot, i stricted loan status to just Current and complete so that i can have more specific analysis and give a probabilistic generalisation, in order to show my third variable, used shape because it is a categorical varaible and i prefer shape as it is proper than size which is applicable to numerical variables.\n",
    "The plot also shows that there seems to be more borrowers who are still currently paying their loans compared to those who have completed it. Although for both  cases, i observed outliers and am going to remove this because of the impact it will have on my machine learning model which i will be building later on.\n",
    "I used size to show the numerical varible in the next regression plot because as i said earlier it is proper to use size for a numerical variable.\n",
    "and it is obvious nost likely that .\n",
    "From the Facetgrid of question 14, i showed the loan status of borrowers,for those who are still paying, those who have completed payment and those who are making final payments, their respective loan Amounts and respective Ratings.\n",
    "I noticed that Those with Loan Status of \"Final Paymemts in Progress\" have very little clusters across each ratings while those with Current and Completed loan status are more .\n",
    "Lastly, The last bar chart where i showed the Interest rate on borrowers and their loan status for those who have home and those who do not, i think there was no need for any transformation since the analysis is clear that there are more borrowers with no homes than with homes."
   ]
  },
  {
   "cell_type": "code",
   "execution_count": 80,
   "id": "5d07caa5",
   "metadata": {},
   "outputs": [],
   "source": [
    "#save the data for modeling later\n",
    "Loans_Clean.to_csv('Loan_df.csv')"
   ]
  },
  {
   "cell_type": "markdown",
   "id": "6786dcfb",
   "metadata": {},
   "source": [
    "<a id='conclusions'></a>\n",
    "## Conclusions\n",
    "> Generally there are more home owners than those who do not have home but this does not really have impact on whether a borrower will pay back a loan or not because there are also a lot of non home owners who have completed their loans.\n",
    "It is also clear that Borower rate has impact on Loan Status because there is more interest on the Loan Amount of those who have no Homes and those who do not have home.\n",
    "From one of the scatter plot, i saw that borrowers who even have higher monthly income and have not finished payments are  more than those who have completed payments and have lower monthly income by samll margin, which ,means that only the monthly income does not tell if a borrower will pay back or not, we must also look at the amount of loan given to the borrowers.\n",
    "I also noticed that borrowers who are currently paying and completed payment and which have a higher Prosper Rating are those who have lesser Interest Rate on their Loan Amounts.\n",
    "Where i used the groupby clause to show the Average monthly income of Borrowers Loan status, i saw that those whose final payment is in progress have the highest average monthly income even than those who have completed payment, hence, much more than income of borrwers , there are still some additional factors that contribute to why some have not paid back.\n",
    "\n",
    "\n",
    "## Recommendation\n",
    "> I suggest that beyong just the features , there is an attitude part on the side of the borrowers on whetherto pay or not and i think banks or institutions that lend borrowers money show call their clients and ask them why sincerely ahve not paid.\n",
    "Also Institutions that leand money should not use the fact that a borrower said they are home owners or not to determine the amount of loan they can borrowe, because it is even obvious that people who are not home owners and have completed their loan payments are more than those who have not completed payment.\n",
    "In addition the Interest  on borrowers who have lower Monthly Income should be reduced and their loan term should be a little bit extended.\n",
    "Finally i could see that There are more borrowers who are employed with a percentage of 63%, which means that if they are well paid in their place of work, they should be able to complete their payment on time, whereas a lot have not still paid, hence , this means the Loan Lending Institutions cannot just rely on whether a borrower is employed or not but also consider if they are getting consistent payment at their places of work or not and compare that amount of loan they are requesting with their income."
   ]
  },
  {
   "cell_type": "markdown",
   "id": "15a55189",
   "metadata": {},
   "source": [
    "## References\n",
    "> Alx udacity workspace, stack overflow, youtube, python documentation."
   ]
  },
  {
   "cell_type": "code",
   "execution_count": null,
   "id": "74f18921",
   "metadata": {},
   "outputs": [],
   "source": []
  }
 ],
 "metadata": {
  "kernelspec": {
   "display_name": "Python 3 (ipykernel)",
   "language": "python",
   "name": "python3"
  },
  "language_info": {
   "codemirror_mode": {
    "name": "ipython",
    "version": 3
   },
   "file_extension": ".py",
   "mimetype": "text/x-python",
   "name": "python",
   "nbconvert_exporter": "python",
   "pygments_lexer": "ipython3",
   "version": "3.9.13"
  }
 },
 "nbformat": 4,
 "nbformat_minor": 5
}
